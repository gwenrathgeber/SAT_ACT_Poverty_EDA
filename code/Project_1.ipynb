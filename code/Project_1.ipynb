{
 "cells": [
  {
   "cell_type": "markdown",
   "metadata": {},
   "source": [
    "### Rubric\n",
    "Your local instructor will evaluate your project (for the most part) using the following criteria.  You should make sure that you consider and/or follow most if not all of the considerations/recommendations outlined below **while** working through your project.\n",
    "\n",
    "**Scores will be out of 21 points based on the 7 items in the rubric.** <br>\n",
    "*3 points per section*<br>\n",
    "\n",
    "| Score | Interpretation |\n",
    "| --- | --- |\n",
    "| **0** | *Project fails to meet the minimum requirements for this item.* |\n",
    "| **1** | *Project meets the minimum requirements for this item, but falls significantly short of portfolio-ready expectations.* |\n",
    "| **2** | *Project exceeds the minimum requirements for this item, but falls short of portfolio-ready expectations.* |\n",
    "| **3** | *Project meets or exceeds portfolio-ready expectations; demonstrates a thorough understanding of every outlined consideration.* |\n",
    "\n",
    "**Project Organization**\n",
    "- ~~Are modules imported correctly (using appropriate aliases)?\n",
    "- ~~Are data imported/saved using relative paths?\n",
    "- Does the README provide a good executive summary of the project?\n",
    "- ~~Is markdown formatting used appropriately to structure notebooks?\n",
    "- ~~Are there an appropriate amount of comments to support the code?\n",
    "- Are files & directories organized correctly?\n",
    "- ~~Are there unnecessary files included?\n",
    "- ~~Do files and directories have well-structured, appropriate, consistent names?\n",
    "\n",
    "**Clarity of Message**\n",
    "- ~~Is the problem statement clearly presented?\n",
    "- ~~Does a strong narrative run through the project?\n",
    "- ~~Does the student provide appropriate context to connect individual steps back to the overall project?\n",
    "- ~~Is it clear how the final recommendations were reached?\n",
    "- ~~Are the conclusions/recommendations clearly stated?\n",
    "\n",
    "**Python Syntax and Control Flow**\n",
    "- ~~Is care taken to write human readable code?\n",
    "- ~~Is the code syntactically correct (no runtime errors)?\n",
    "- ~~Does the code generate desired results (logically correct)?\n",
    "- ~~Does the code follows general best practices and style guidelines?\n",
    "- ~~Are Pandas functions used appropriately?\n",
    "- ~~Does the student demonstrate mastery masking in Pandas?\n",
    "- ~~Does the student demonstrate mastery sorting in Pandas?\n",
    "\n",
    "**Data Cleaning and EDA**\n",
    "- ~~Does the student fix data entry issues?\n",
    "- ~~Are data appropriately labeled?\n",
    "- ~~Are data appropriately typed?\n",
    "- ~~Are datasets combined correctly?\n",
    "- ~~Are appropriate summary statistics provided?\n",
    "- ~~Are steps taken during data cleaning and EDA framed appropriately?\n",
    "\n",
    "**Visualizations**\n",
    "- ~~Are the requested visualizations provided?\n",
    "- ~~Do plots accurately demonstrate valid relationships?\n",
    "- ~~Are plots labeled properly?\n",
    "- ~~Plots interpreted appropriately?\n",
    "- ~~Are plots formatted and scaled appropriately for inclusion in a notebook-based technical report?\n",
    "\n",
    "**Research and Conceptual Understanding**\n",
    "- ~~Were useful insights gathered from outside sources?\n",
    "- ~~Are sources clearly identified?\n",
    "- ~~Does the student provide appropriate interpretation with regards to descriptive and inferential statistics?\n",
    "\n",
    "**Presentation**\n",
    "- ~~Is the problem statement clearly presented?\n",
    "- Does a strong narrative run through the presentation building toward a final conclusion?\n",
    "- Are the conclusions/recommendations clearly stated?\n",
    "- Is the level of technicality appropriate for the intended audience?\n",
    "- Is the student substantially over or under time?\n",
    "- Does the student appropriately pace their presentation?\n",
    "- Does the student deliver their message with clarity and volume?\n",
    "- Are appropriate visualizations generated for the intended audience?\n",
    "- Are visualizations necessary and useful for supporting conclusions/explaining findings?\n",
    "\n",
    "In order to pass the project, students must earn a minimum score of 1 for each category.\n",
    "- Earning below a 1 in one or more of the above categories would result in a failing project.\n",
    "- While a minimum of 1 in each category is the required threshold for graduation, students should aim to earn at least an average of 1.5 across each category. An average score below 1.5, while it may be passing, means students may want to solicit specific feedback in order to significantly improve the project before showcasing it as part of a portfolio or the job search.\n",
    "\n",
    "### REMEMBER:\n",
    "\n",
    "This is a learning environment and you are encouraged to try new things, even if they don't work out as well as you planned! While this rubric outlines what we look for in a _good_ project, it is up to you to go above and beyond to create a _great_ project. **Learn from your failures and you'll be prepared to succeed in the workforce**.\n"
   ]
  },
  {
   "cell_type": "markdown",
   "metadata": {},
   "source": [
    "# Project 1: SAT & ACT Analysis"
   ]
  },
  {
   "cell_type": "markdown",
   "metadata": {},
   "source": [
    "## Problem Statement\n",
    "\n",
    "We want to understand how poverty rates relate to state SAT and ACT scores by integrating [census data](https://www2.census.gov/programs-surveys/demo/tables/p60/266/state.xls) with scores.\n",
    "\n",
    "As it's well established that [family income is a strong predictor of test scores](https://www.washingtonpost.com/news/wonk/wp/2014/03/05/these-four-charts-show-how-the-sat-favors-the-rich-educated-families/), it is reasonable to suspect that in states with high participation on a given test, average poverty level will be correlated with state average test scores.\n",
    "\n",
    "We wish to determine if a relationship between state test scores and poverty levels exists through exploratory data analysis."
   ]
  },
  {
   "cell_type": "markdown",
   "metadata": {},
   "source": [
    "## Executive Summary\n",
    "\n",
    "To investigate the question of poverty as it relates to standardized test scores, we gathered summary statistics on the data, investigated trends, then created visualizations which helped to understand the data and communicate findings.\n",
    "\n",
    "Cleaning the sets followed these steps:\n",
    "- Isolating input errors and replacing with correct values, then sourcing accurate replacements\n",
    "- Adjusting data types where necessary due to formatting or input errors\n",
    "- Dropping a handful of rows with extraneous or missing values\n",
    "- Merging all 5 source tables into our final, combined table\n",
    "\n",
    "We then proceeded with exploratory data analysis. This proceeded as follows:\n",
    "- Explored minimum and maximum values in our columns\n",
    "- Identified states with large changes in year-over-year participation rates\n",
    "- Explored the highest and lowest states based on the sum of both participation rates for each year\n",
    "\n",
    "Finally, we created visualizations. These were split into two parts:\n",
    "- First, several types of plots helped us better understand our data\n",
    "    - A heatmap of correlations allowed us to explore the relationships between different columns\n",
    "    - Histograms of our columns allowed us to explore the internal distributions of each variable\n",
    "    - Boxplots of all columns further visualized the spread of each variable\n",
    "    - Scatterplots began relating specific variables to each other in tangible patterns\n",
    "    - Finally, combinations of masks and scatterplots allowed us to isolate features which previous analysis had shown were confounding the relationship between poverty and test scores.\n",
    "    - We then examine Ohio, the only state which had above-average test scores in the presence of high poverty and high participation rates for the test. By going deeper into the \n",
    "   \n",
    "We conclude that there is a meaningful relationship between state poverty levels and average SAT and ACT scores, and make several recommendations to address this effect.\n",
    "\n",
    "### Contents:\n",
    "- [2017 Data Import & Cleaning](#Data-Import-and-Cleaning)\n",
    "- [2018 Data Import and Cleaning](#2018-Data-Import-and-Cleaning)\n",
    "- [Importing State-Level Poverty Data](#Importing-State-Level-Poverty-Data)\n",
    "- [Exploratory Data Analysis](#Exploratory-Data-Analysis)\n",
    "- [Data Visualization](#Visualize-the-data)\n",
    "- [Outside Research](#Outside-Research)\n",
    "- [Conclusions and Recommendations](#Conclusions-and-Recommendations)\n",
    "- [Sources](#Sources)\n",
    "- [Data Dictionary](#Data-Dictionary)"
   ]
  },
  {
   "cell_type": "markdown",
   "metadata": {},
   "source": [
    "**If you combine your problem statement, executive summary, data dictionary, and conclusions/recommendations, you have an amazing README.md file that quickly aligns your audience to the contents of your project.** Don't forget to cite your data sources!"
   ]
  },
  {
   "cell_type": "markdown",
   "metadata": {},
   "source": [
    "*All libraries used should be added here*"
   ]
  },
  {
   "cell_type": "code",
   "execution_count": 1,
   "metadata": {},
   "outputs": [],
   "source": [
    "# Imports:\n",
    "import pandas as pd\n",
    "import matplotlib.pyplot as plt\n",
    "import seaborn as sns\n",
    "import numpy as np"
   ]
  },
  {
   "cell_type": "markdown",
   "metadata": {},
   "source": [
    "## 2017 Data Import and Cleaning"
   ]
  },
  {
   "cell_type": "markdown",
   "metadata": {},
   "source": [
    "#### 1. Read In SAT & ACT  Data\n",
    "\n",
    "Read in the `sat_2017.csv` and `act_2017.csv` files and assign them to appropriately named pandas dataframes."
   ]
  },
  {
   "cell_type": "code",
   "execution_count": 2,
   "metadata": {},
   "outputs": [],
   "source": [
    "sat_2017 = pd.read_csv('../data/sat_2017.csv')\n",
    "act_2017 = pd.read_csv('../data/act_2017.csv')"
   ]
  },
  {
   "cell_type": "markdown",
   "metadata": {},
   "source": [
    "#### 2. Display Data\n",
    "\n",
    "Print the first 10 rows of each dataframe to your jupyter notebook"
   ]
  },
  {
   "cell_type": "code",
   "execution_count": 3,
   "metadata": {
    "scrolled": true
   },
   "outputs": [
    {
     "data": {
      "text/html": [
       "<div>\n",
       "<style scoped>\n",
       "    .dataframe tbody tr th:only-of-type {\n",
       "        vertical-align: middle;\n",
       "    }\n",
       "\n",
       "    .dataframe tbody tr th {\n",
       "        vertical-align: top;\n",
       "    }\n",
       "\n",
       "    .dataframe thead th {\n",
       "        text-align: right;\n",
       "    }\n",
       "</style>\n",
       "<table border=\"1\" class=\"dataframe\">\n",
       "  <thead>\n",
       "    <tr style=\"text-align: right;\">\n",
       "      <th></th>\n",
       "      <th>State</th>\n",
       "      <th>Participation</th>\n",
       "      <th>Evidence-Based Reading and Writing</th>\n",
       "      <th>Math</th>\n",
       "      <th>Total</th>\n",
       "    </tr>\n",
       "  </thead>\n",
       "  <tbody>\n",
       "    <tr>\n",
       "      <th>0</th>\n",
       "      <td>Alabama</td>\n",
       "      <td>5%</td>\n",
       "      <td>593</td>\n",
       "      <td>572</td>\n",
       "      <td>1165</td>\n",
       "    </tr>\n",
       "    <tr>\n",
       "      <th>1</th>\n",
       "      <td>Alaska</td>\n",
       "      <td>38%</td>\n",
       "      <td>547</td>\n",
       "      <td>533</td>\n",
       "      <td>1080</td>\n",
       "    </tr>\n",
       "    <tr>\n",
       "      <th>2</th>\n",
       "      <td>Arizona</td>\n",
       "      <td>30%</td>\n",
       "      <td>563</td>\n",
       "      <td>553</td>\n",
       "      <td>1116</td>\n",
       "    </tr>\n",
       "    <tr>\n",
       "      <th>3</th>\n",
       "      <td>Arkansas</td>\n",
       "      <td>3%</td>\n",
       "      <td>614</td>\n",
       "      <td>594</td>\n",
       "      <td>1208</td>\n",
       "    </tr>\n",
       "    <tr>\n",
       "      <th>4</th>\n",
       "      <td>California</td>\n",
       "      <td>53%</td>\n",
       "      <td>531</td>\n",
       "      <td>524</td>\n",
       "      <td>1055</td>\n",
       "    </tr>\n",
       "    <tr>\n",
       "      <th>5</th>\n",
       "      <td>Colorado</td>\n",
       "      <td>11%</td>\n",
       "      <td>606</td>\n",
       "      <td>595</td>\n",
       "      <td>1201</td>\n",
       "    </tr>\n",
       "    <tr>\n",
       "      <th>6</th>\n",
       "      <td>Connecticut</td>\n",
       "      <td>100%</td>\n",
       "      <td>530</td>\n",
       "      <td>512</td>\n",
       "      <td>1041</td>\n",
       "    </tr>\n",
       "    <tr>\n",
       "      <th>7</th>\n",
       "      <td>Delaware</td>\n",
       "      <td>100%</td>\n",
       "      <td>503</td>\n",
       "      <td>492</td>\n",
       "      <td>996</td>\n",
       "    </tr>\n",
       "    <tr>\n",
       "      <th>8</th>\n",
       "      <td>District of Columbia</td>\n",
       "      <td>100%</td>\n",
       "      <td>482</td>\n",
       "      <td>468</td>\n",
       "      <td>950</td>\n",
       "    </tr>\n",
       "    <tr>\n",
       "      <th>9</th>\n",
       "      <td>Florida</td>\n",
       "      <td>83%</td>\n",
       "      <td>520</td>\n",
       "      <td>497</td>\n",
       "      <td>1017</td>\n",
       "    </tr>\n",
       "  </tbody>\n",
       "</table>\n",
       "</div>"
      ],
      "text/plain": [
       "                  State Participation  Evidence-Based Reading and Writing  \\\n",
       "0               Alabama            5%                                 593   \n",
       "1                Alaska           38%                                 547   \n",
       "2               Arizona           30%                                 563   \n",
       "3              Arkansas            3%                                 614   \n",
       "4            California           53%                                 531   \n",
       "5              Colorado           11%                                 606   \n",
       "6           Connecticut          100%                                 530   \n",
       "7              Delaware          100%                                 503   \n",
       "8  District of Columbia          100%                                 482   \n",
       "9               Florida           83%                                 520   \n",
       "\n",
       "   Math  Total  \n",
       "0   572   1165  \n",
       "1   533   1080  \n",
       "2   553   1116  \n",
       "3   594   1208  \n",
       "4   524   1055  \n",
       "5   595   1201  \n",
       "6   512   1041  \n",
       "7   492    996  \n",
       "8   468    950  \n",
       "9   497   1017  "
      ]
     },
     "execution_count": 3,
     "metadata": {},
     "output_type": "execute_result"
    }
   ],
   "source": [
    "sat_2017.head(10)"
   ]
  },
  {
   "cell_type": "code",
   "execution_count": 4,
   "metadata": {},
   "outputs": [
    {
     "data": {
      "text/html": [
       "<div>\n",
       "<style scoped>\n",
       "    .dataframe tbody tr th:only-of-type {\n",
       "        vertical-align: middle;\n",
       "    }\n",
       "\n",
       "    .dataframe tbody tr th {\n",
       "        vertical-align: top;\n",
       "    }\n",
       "\n",
       "    .dataframe thead th {\n",
       "        text-align: right;\n",
       "    }\n",
       "</style>\n",
       "<table border=\"1\" class=\"dataframe\">\n",
       "  <thead>\n",
       "    <tr style=\"text-align: right;\">\n",
       "      <th></th>\n",
       "      <th>State</th>\n",
       "      <th>Participation</th>\n",
       "      <th>English</th>\n",
       "      <th>Math</th>\n",
       "      <th>Reading</th>\n",
       "      <th>Science</th>\n",
       "      <th>Composite</th>\n",
       "    </tr>\n",
       "  </thead>\n",
       "  <tbody>\n",
       "    <tr>\n",
       "      <th>0</th>\n",
       "      <td>National</td>\n",
       "      <td>60%</td>\n",
       "      <td>20.3</td>\n",
       "      <td>20.7</td>\n",
       "      <td>21.4</td>\n",
       "      <td>21.0</td>\n",
       "      <td>21.0</td>\n",
       "    </tr>\n",
       "    <tr>\n",
       "      <th>1</th>\n",
       "      <td>Alabama</td>\n",
       "      <td>100%</td>\n",
       "      <td>18.9</td>\n",
       "      <td>18.4</td>\n",
       "      <td>19.7</td>\n",
       "      <td>19.4</td>\n",
       "      <td>19.2</td>\n",
       "    </tr>\n",
       "    <tr>\n",
       "      <th>2</th>\n",
       "      <td>Alaska</td>\n",
       "      <td>65%</td>\n",
       "      <td>18.7</td>\n",
       "      <td>19.8</td>\n",
       "      <td>20.4</td>\n",
       "      <td>19.9</td>\n",
       "      <td>19.8</td>\n",
       "    </tr>\n",
       "    <tr>\n",
       "      <th>3</th>\n",
       "      <td>Arizona</td>\n",
       "      <td>62%</td>\n",
       "      <td>18.6</td>\n",
       "      <td>19.8</td>\n",
       "      <td>20.1</td>\n",
       "      <td>19.8</td>\n",
       "      <td>19.7</td>\n",
       "    </tr>\n",
       "    <tr>\n",
       "      <th>4</th>\n",
       "      <td>Arkansas</td>\n",
       "      <td>100%</td>\n",
       "      <td>18.9</td>\n",
       "      <td>19.0</td>\n",
       "      <td>19.7</td>\n",
       "      <td>19.5</td>\n",
       "      <td>19.4</td>\n",
       "    </tr>\n",
       "    <tr>\n",
       "      <th>5</th>\n",
       "      <td>California</td>\n",
       "      <td>31%</td>\n",
       "      <td>22.5</td>\n",
       "      <td>22.7</td>\n",
       "      <td>23.1</td>\n",
       "      <td>22.2</td>\n",
       "      <td>22.8</td>\n",
       "    </tr>\n",
       "    <tr>\n",
       "      <th>6</th>\n",
       "      <td>Colorado</td>\n",
       "      <td>100%</td>\n",
       "      <td>20.1</td>\n",
       "      <td>20.3</td>\n",
       "      <td>21.2</td>\n",
       "      <td>20.9</td>\n",
       "      <td>20.8</td>\n",
       "    </tr>\n",
       "    <tr>\n",
       "      <th>7</th>\n",
       "      <td>Connecticut</td>\n",
       "      <td>31%</td>\n",
       "      <td>25.5</td>\n",
       "      <td>24.6</td>\n",
       "      <td>25.6</td>\n",
       "      <td>24.6</td>\n",
       "      <td>25.2</td>\n",
       "    </tr>\n",
       "    <tr>\n",
       "      <th>8</th>\n",
       "      <td>Delaware</td>\n",
       "      <td>18%</td>\n",
       "      <td>24.1</td>\n",
       "      <td>23.4</td>\n",
       "      <td>24.8</td>\n",
       "      <td>23.6</td>\n",
       "      <td>24.1</td>\n",
       "    </tr>\n",
       "    <tr>\n",
       "      <th>9</th>\n",
       "      <td>District of Columbia</td>\n",
       "      <td>32%</td>\n",
       "      <td>24.4</td>\n",
       "      <td>23.5</td>\n",
       "      <td>24.9</td>\n",
       "      <td>23.5</td>\n",
       "      <td>24.2</td>\n",
       "    </tr>\n",
       "  </tbody>\n",
       "</table>\n",
       "</div>"
      ],
      "text/plain": [
       "                  State Participation  English  Math  Reading  Science  \\\n",
       "0              National           60%     20.3  20.7     21.4     21.0   \n",
       "1               Alabama          100%     18.9  18.4     19.7     19.4   \n",
       "2                Alaska           65%     18.7  19.8     20.4     19.9   \n",
       "3               Arizona           62%     18.6  19.8     20.1     19.8   \n",
       "4              Arkansas          100%     18.9  19.0     19.7     19.5   \n",
       "5            California           31%     22.5  22.7     23.1     22.2   \n",
       "6              Colorado          100%     20.1  20.3     21.2     20.9   \n",
       "7           Connecticut           31%     25.5  24.6     25.6     24.6   \n",
       "8              Delaware           18%     24.1  23.4     24.8     23.6   \n",
       "9  District of Columbia           32%     24.4  23.5     24.9     23.5   \n",
       "\n",
       "  Composite  \n",
       "0      21.0  \n",
       "1      19.2  \n",
       "2      19.8  \n",
       "3      19.7  \n",
       "4      19.4  \n",
       "5      22.8  \n",
       "6      20.8  \n",
       "7      25.2  \n",
       "8      24.1  \n",
       "9      24.2  "
      ]
     },
     "execution_count": 4,
     "metadata": {},
     "output_type": "execute_result"
    }
   ],
   "source": [
    "act_2017.head(10)"
   ]
  },
  {
   "cell_type": "markdown",
   "metadata": {},
   "source": [
    "#### 3. Verbally Describe Data\n",
    "\n",
    "Take your time looking through the data and thoroughly describe the data in the markdown cell below. "
   ]
  },
  {
   "cell_type": "markdown",
   "metadata": {},
   "source": [
    "Answer:\n",
    "\n",
    "#### SAT Data\n",
    "\n",
    "In the SAT data, we have entries for every state, and D.C.\n",
    "\n",
    "Each row contains a participation %, which we take to represent the % of graduating high school students who completed the SAT during high school.\n",
    "\n",
    "The next two columns are the average scores by test section (the SAT contains two sections, Math and Reading & Writing).\n",
    "\n",
    "The final column is the average total score (Math + Reading and Writing).\n",
    "\n",
    "#### ACT Data\n",
    "\n",
    "The ACT data has an additional row containing the national average.\n",
    "\n",
    "The ACT has four test sections: English, Math, Reading, and Science. These are remapped to a scale from 10-36. \n",
    "\n",
    "The Composite score represents the average of these four."
   ]
  },
  {
   "cell_type": "markdown",
   "metadata": {},
   "source": [
    "#### 4a. Does the data look complete? "
   ]
  },
  {
   "cell_type": "markdown",
   "metadata": {},
   "source": [
    "Answer:\n",
    "\n",
    "Yes, there are no missing values and both tables are the expected 51 rows."
   ]
  },
  {
   "cell_type": "markdown",
   "metadata": {},
   "source": [
    "#### 4b. Are there any obvious issues with the observations?\n",
    "\n",
    "**What is the minimum *possible* value for each test/subtest? What is the maximum *possible* value?**\n",
    "\n",
    "Consider comparing any questionable values to the sources of your data:\n",
    "- [SAT](https://blog.collegevine.com/here-are-the-average-sat-scores-by-state/)\n",
    "- [ACT](https://blog.prepscholar.com/act-scores-by-state-averages-highs-and-lows)"
   ]
  },
  {
   "cell_type": "code",
   "execution_count": 5,
   "metadata": {},
   "outputs": [
    {
     "data": {
      "text/html": [
       "<div>\n",
       "<style scoped>\n",
       "    .dataframe tbody tr th:only-of-type {\n",
       "        vertical-align: middle;\n",
       "    }\n",
       "\n",
       "    .dataframe tbody tr th {\n",
       "        vertical-align: top;\n",
       "    }\n",
       "\n",
       "    .dataframe thead th {\n",
       "        text-align: right;\n",
       "    }\n",
       "</style>\n",
       "<table border=\"1\" class=\"dataframe\">\n",
       "  <thead>\n",
       "    <tr style=\"text-align: right;\">\n",
       "      <th></th>\n",
       "      <th>Evidence-Based Reading and Writing</th>\n",
       "      <th>Math</th>\n",
       "      <th>Total</th>\n",
       "    </tr>\n",
       "  </thead>\n",
       "  <tbody>\n",
       "    <tr>\n",
       "      <th>count</th>\n",
       "      <td>51.000000</td>\n",
       "      <td>51.000000</td>\n",
       "      <td>51.000000</td>\n",
       "    </tr>\n",
       "    <tr>\n",
       "      <th>mean</th>\n",
       "      <td>569.117647</td>\n",
       "      <td>547.627451</td>\n",
       "      <td>1126.098039</td>\n",
       "    </tr>\n",
       "    <tr>\n",
       "      <th>std</th>\n",
       "      <td>45.666901</td>\n",
       "      <td>84.909119</td>\n",
       "      <td>92.494812</td>\n",
       "    </tr>\n",
       "    <tr>\n",
       "      <th>min</th>\n",
       "      <td>482.000000</td>\n",
       "      <td>52.000000</td>\n",
       "      <td>950.000000</td>\n",
       "    </tr>\n",
       "    <tr>\n",
       "      <th>25%</th>\n",
       "      <td>533.500000</td>\n",
       "      <td>522.000000</td>\n",
       "      <td>1055.500000</td>\n",
       "    </tr>\n",
       "    <tr>\n",
       "      <th>50%</th>\n",
       "      <td>559.000000</td>\n",
       "      <td>548.000000</td>\n",
       "      <td>1107.000000</td>\n",
       "    </tr>\n",
       "    <tr>\n",
       "      <th>75%</th>\n",
       "      <td>613.000000</td>\n",
       "      <td>599.000000</td>\n",
       "      <td>1212.000000</td>\n",
       "    </tr>\n",
       "    <tr>\n",
       "      <th>max</th>\n",
       "      <td>644.000000</td>\n",
       "      <td>651.000000</td>\n",
       "      <td>1295.000000</td>\n",
       "    </tr>\n",
       "  </tbody>\n",
       "</table>\n",
       "</div>"
      ],
      "text/plain": [
       "       Evidence-Based Reading and Writing        Math        Total\n",
       "count                           51.000000   51.000000    51.000000\n",
       "mean                           569.117647  547.627451  1126.098039\n",
       "std                             45.666901   84.909119    92.494812\n",
       "min                            482.000000   52.000000   950.000000\n",
       "25%                            533.500000  522.000000  1055.500000\n",
       "50%                            559.000000  548.000000  1107.000000\n",
       "75%                            613.000000  599.000000  1212.000000\n",
       "max                            644.000000  651.000000  1295.000000"
      ]
     },
     "execution_count": 5,
     "metadata": {},
     "output_type": "execute_result"
    }
   ],
   "source": [
    "sat_2017.describe()"
   ]
  },
  {
   "cell_type": "markdown",
   "metadata": {},
   "source": [
    "Answer:\n",
    "\n",
    "#### SAT Erroneous Data\n",
    "\n",
    "The minimum SAT score is 200 for a section, or 400 total.\n",
    "\n",
    "The maximum SAT score is 800 for a section, or 1600 total.\n",
    "\n",
    "We notice from sat_2017.describe() that a row has a minimum math score of 52, which is not possible.\n",
    "\n",
    "Comparing against the source data, the error is Maryland, which is supposed to have a math score of 524. (https://reports.collegeboard.org/pdf/2019-total-group-sat-suite-assessments-annual-report.pdf)\n",
    "\n",
    "#### ACT Erroneous Data\n",
    "\n",
    "The minimum ACT score is 10 for sections and the composite, and the maximum is 36.\n",
    "\n",
    "We notice from act_2017.describe() that a row has a Science score of 2.3, which is not possible.\n",
    "\n",
    "We further notice that 'Composite' was not included in .describe(), indicating that an erroneous value caused this column to fail to read as numeric.\n",
    "\n",
    "Reviewing the source data, the error is again in Maryland, which is meant to have a Science score of 23.2. (http://www.act.org/content/dam/act/unsecured/documents/cccr2018/Average-Scores-by-State.pdf)\n",
    "\n",
    "Reviewing act_2017, we find that Wyoming's composite score contained a letter, causing the column to be interpreted as a string."
   ]
  },
  {
   "cell_type": "markdown",
   "metadata": {},
   "source": [
    "#### 4c. Fix any errors you identified\n",
    "\n",
    "**The data is available** so there's no need to guess or calculate anything. If you didn't find any errors, continue to the next step."
   ]
  },
  {
   "cell_type": "code",
   "execution_count": 6,
   "metadata": {},
   "outputs": [],
   "source": [
    "# code\n",
    "sat_2017.loc[sat_2017['State'] == 'Maryland', 'Math'] = 524\n",
    "\n",
    "act_2017.loc[act_2017['State'] == 'Maryland', 'Science'] = 23.2\n",
    "\n",
    "act_2017.loc[act_2017['State'] == 'Wyoming', 'Composite'] = 20.2"
   ]
  },
  {
   "cell_type": "markdown",
   "metadata": {},
   "source": [
    "#### 5. What are your data types? \n",
    "Display the data types of each feature. "
   ]
  },
  {
   "cell_type": "code",
   "execution_count": 7,
   "metadata": {},
   "outputs": [
    {
     "data": {
      "text/plain": [
       "State             object\n",
       "Participation     object\n",
       "English          float64\n",
       "Math             float64\n",
       "Reading          float64\n",
       "Science          float64\n",
       "Composite         object\n",
       "dtype: object"
      ]
     },
     "execution_count": 7,
     "metadata": {},
     "output_type": "execute_result"
    }
   ],
   "source": [
    "# code\n",
    "sat_2017.dtypes\n",
    "act_2017.dtypes"
   ]
  },
  {
   "cell_type": "markdown",
   "metadata": {},
   "source": [
    "What did you learn?\n",
    "- Do any of them seem odd?  \n",
    "- Which ones are not as they should be?  "
   ]
  },
  {
   "cell_type": "markdown",
   "metadata": {},
   "source": [
    "Answer:\n",
    "\n",
    "As we assessed in the previous question, Wyoming's value error caused the act_2017 Composite column to read as a `string` instead of a `float`.\n",
    "\n",
    "We also notice that the Participation column for both tables was interpreted as a `string` due to the presence of the % symbol. "
   ]
  },
  {
   "cell_type": "markdown",
   "metadata": {},
   "source": [
    "#### 6. Fix Incorrect Data Types\n",
    "Based on what you discovered above, use appropriate methods to re-type incorrectly typed data.\n",
    "- Define a function that will allow you to convert participation rates to an appropriate numeric type. Use `map` or `apply` to change these columns in each dataframe."
   ]
  },
  {
   "cell_type": "markdown",
   "metadata": {},
   "source": [
    "#### Functions to Convert Data Types\n",
    "\n",
    "We will define str_to_flt to convert act_2017's Composite column to a `float`, and pct_to_flt to convert the Participation columns to `float`."
   ]
  },
  {
   "cell_type": "code",
   "execution_count": 8,
   "metadata": {},
   "outputs": [],
   "source": [
    "# code\n",
    "def str_to_flt(string):\n",
    "    return float(string)\n",
    "\n",
    "\n",
    "def pct_to_flt(string):\n",
    "    return float(string[:-1])/100"
   ]
  },
  {
   "cell_type": "code",
   "execution_count": 9,
   "metadata": {},
   "outputs": [],
   "source": [
    "act_2017['Composite'] = act_2017['Composite'].map(str_to_flt)\n",
    "\n",
    "sat_2017['Participation'] = sat_2017['Participation'].map(pct_to_flt)\n",
    "\n",
    "act_2017['Participation'] = act_2017['Participation'].map(pct_to_flt)"
   ]
  },
  {
   "cell_type": "markdown",
   "metadata": {},
   "source": [
    "- Display the data types again to confirm they are correct."
   ]
  },
  {
   "cell_type": "code",
   "execution_count": 10,
   "metadata": {},
   "outputs": [
    {
     "data": {
      "text/plain": [
       "State                                  object\n",
       "Participation                         float64\n",
       "Evidence-Based Reading and Writing      int64\n",
       "Math                                    int64\n",
       "Total                                   int64\n",
       "dtype: object"
      ]
     },
     "execution_count": 10,
     "metadata": {},
     "output_type": "execute_result"
    }
   ],
   "source": [
    "sat_2017.dtypes"
   ]
  },
  {
   "cell_type": "code",
   "execution_count": 11,
   "metadata": {},
   "outputs": [
    {
     "data": {
      "text/plain": [
       "State             object\n",
       "Participation    float64\n",
       "English          float64\n",
       "Math             float64\n",
       "Reading          float64\n",
       "Science          float64\n",
       "Composite        float64\n",
       "dtype: object"
      ]
     },
     "execution_count": 11,
     "metadata": {},
     "output_type": "execute_result"
    }
   ],
   "source": [
    "act_2017.dtypes"
   ]
  },
  {
   "cell_type": "markdown",
   "metadata": {},
   "source": [
    "#### 7. Rename Columns\n",
    "Change the names of the columns to more expressive names so that you can tell the difference the SAT columns and the ACT columns. Your solution should map all column names being changed at once (no repeated singular name-changes). **We will be combining these data with some of the data from 2018, and so you should name columns in an appropriate way**.\n",
    "\n",
    "**Guidelines**:\n",
    "- Column names should be all lowercase (you will thank yourself when you start pushing data to SQL later in the course)\n",
    "- Column names should not contain spaces (underscores will suffice--this allows for using the `df.column_name` method to access columns in addition to `df['column_name']`.\n",
    "- Column names should be unique and informative (the only feature that we actually share between dataframes is the state)."
   ]
  },
  {
   "cell_type": "code",
   "execution_count": 12,
   "metadata": {},
   "outputs": [],
   "source": [
    "# code\n",
    "sat_2017.columns = ['state',\n",
    "                    'sat_partic_17',\n",
    "                    'sat_read_write_17',\n",
    "                    'sat_math_17',\n",
    "                    'sat_total_17']\n",
    "act_2017.columns = ['state',\n",
    "                    'act_partic_17',\n",
    "                    'act_eng_17',\n",
    "                    'act_math_17',\n",
    "                    'act_read_17',\n",
    "                    'act_sci_17',\n",
    "                    'act_composite_17']"
   ]
  },
  {
   "cell_type": "markdown",
   "metadata": {},
   "source": [
    "#### 8. Create a data dictionary\n",
    "\n",
    "Now that we've fixed our data, and given it appropriate names, let's create a [data dictionary](http://library.ucmerced.edu/node/10249). \n",
    "\n",
    "A data dictionary provides a quick overview of features/variables/columns, alongside data types and descriptions. The more descriptive you can be, the more useful this document is.\n",
    "\n",
    "Example of a Fictional Data Dictionary Entry: \n",
    "\n",
    "|Feature|Type|Dataset|Description|\n",
    "|---|---|---|---|\n",
    "|**county_pop**|*integer*|2010 census|The population of the county (units in thousands, where 2.5 represents 2500 people).| \n",
    "|**per_poverty**|*float*|2010 census|The percent of the county over the age of 18 living below the 200% of official US poverty rate (units percent to two decimal places 98.10 means 98.1%)|\n",
    "\n",
    "[Here's a quick link to a short guide for formatting markdown in Jupyter notebooks](https://jupyter-notebook.readthedocs.io/en/stable/examples/Notebook/Working%20With%20Markdown%20Cells.html).\n",
    "\n",
    "Provided is the skeleton for formatting a markdown table, with columns headers that will help you create a data dictionary to quickly summarize your data, as well as some examples. **This would be a great thing to copy and paste into your custom README for this project.**"
   ]
  },
  {
   "cell_type": "markdown",
   "metadata": {},
   "source": [
    "[Link to Data Dictionary](#Data-Dictionary)"
   ]
  },
  {
   "cell_type": "markdown",
   "metadata": {},
   "source": [
    "#### 9. Drop unnecessary rows\n",
    "\n",
    "One of our dataframes contains an extra row. Identify and remove this from the dataframe."
   ]
  },
  {
   "cell_type": "code",
   "execution_count": 13,
   "metadata": {},
   "outputs": [],
   "source": [
    "# code\n",
    "act_2017.drop(0,\n",
    "              inplace=True)"
   ]
  },
  {
   "cell_type": "code",
   "execution_count": 14,
   "metadata": {},
   "outputs": [],
   "source": [
    "act_2017.index -= 1"
   ]
  },
  {
   "cell_type": "markdown",
   "metadata": {},
   "source": [
    "#### 10. Merge Dataframes\n",
    "\n",
    "Join the 2017 ACT and SAT dataframes using the state in each dataframe as the key. Assign this to a new variable."
   ]
  },
  {
   "cell_type": "code",
   "execution_count": 15,
   "metadata": {},
   "outputs": [],
   "source": [
    "scores_2017 = pd.merge(left=sat_2017,\n",
    "                       right=act_2017,\n",
    "                       how='inner',\n",
    "                       on='state')"
   ]
  },
  {
   "cell_type": "code",
   "execution_count": 16,
   "metadata": {
    "scrolled": true
   },
   "outputs": [
    {
     "data": {
      "text/html": [
       "<div>\n",
       "<style scoped>\n",
       "    .dataframe tbody tr th:only-of-type {\n",
       "        vertical-align: middle;\n",
       "    }\n",
       "\n",
       "    .dataframe tbody tr th {\n",
       "        vertical-align: top;\n",
       "    }\n",
       "\n",
       "    .dataframe thead th {\n",
       "        text-align: right;\n",
       "    }\n",
       "</style>\n",
       "<table border=\"1\" class=\"dataframe\">\n",
       "  <thead>\n",
       "    <tr style=\"text-align: right;\">\n",
       "      <th></th>\n",
       "      <th>state</th>\n",
       "      <th>sat_partic_17</th>\n",
       "      <th>sat_read_write_17</th>\n",
       "      <th>sat_math_17</th>\n",
       "      <th>sat_total_17</th>\n",
       "      <th>act_partic_17</th>\n",
       "      <th>act_eng_17</th>\n",
       "      <th>act_math_17</th>\n",
       "      <th>act_read_17</th>\n",
       "      <th>act_sci_17</th>\n",
       "      <th>act_composite_17</th>\n",
       "    </tr>\n",
       "  </thead>\n",
       "  <tbody>\n",
       "    <tr>\n",
       "      <th>0</th>\n",
       "      <td>Alabama</td>\n",
       "      <td>0.05</td>\n",
       "      <td>593</td>\n",
       "      <td>572</td>\n",
       "      <td>1165</td>\n",
       "      <td>1.00</td>\n",
       "      <td>18.9</td>\n",
       "      <td>18.4</td>\n",
       "      <td>19.7</td>\n",
       "      <td>19.4</td>\n",
       "      <td>19.2</td>\n",
       "    </tr>\n",
       "    <tr>\n",
       "      <th>1</th>\n",
       "      <td>Alaska</td>\n",
       "      <td>0.38</td>\n",
       "      <td>547</td>\n",
       "      <td>533</td>\n",
       "      <td>1080</td>\n",
       "      <td>0.65</td>\n",
       "      <td>18.7</td>\n",
       "      <td>19.8</td>\n",
       "      <td>20.4</td>\n",
       "      <td>19.9</td>\n",
       "      <td>19.8</td>\n",
       "    </tr>\n",
       "    <tr>\n",
       "      <th>2</th>\n",
       "      <td>Arizona</td>\n",
       "      <td>0.30</td>\n",
       "      <td>563</td>\n",
       "      <td>553</td>\n",
       "      <td>1116</td>\n",
       "      <td>0.62</td>\n",
       "      <td>18.6</td>\n",
       "      <td>19.8</td>\n",
       "      <td>20.1</td>\n",
       "      <td>19.8</td>\n",
       "      <td>19.7</td>\n",
       "    </tr>\n",
       "    <tr>\n",
       "      <th>3</th>\n",
       "      <td>Arkansas</td>\n",
       "      <td>0.03</td>\n",
       "      <td>614</td>\n",
       "      <td>594</td>\n",
       "      <td>1208</td>\n",
       "      <td>1.00</td>\n",
       "      <td>18.9</td>\n",
       "      <td>19.0</td>\n",
       "      <td>19.7</td>\n",
       "      <td>19.5</td>\n",
       "      <td>19.4</td>\n",
       "    </tr>\n",
       "    <tr>\n",
       "      <th>4</th>\n",
       "      <td>California</td>\n",
       "      <td>0.53</td>\n",
       "      <td>531</td>\n",
       "      <td>524</td>\n",
       "      <td>1055</td>\n",
       "      <td>0.31</td>\n",
       "      <td>22.5</td>\n",
       "      <td>22.7</td>\n",
       "      <td>23.1</td>\n",
       "      <td>22.2</td>\n",
       "      <td>22.8</td>\n",
       "    </tr>\n",
       "  </tbody>\n",
       "</table>\n",
       "</div>"
      ],
      "text/plain": [
       "        state  sat_partic_17  sat_read_write_17  sat_math_17  sat_total_17  \\\n",
       "0     Alabama           0.05                593          572          1165   \n",
       "1      Alaska           0.38                547          533          1080   \n",
       "2     Arizona           0.30                563          553          1116   \n",
       "3    Arkansas           0.03                614          594          1208   \n",
       "4  California           0.53                531          524          1055   \n",
       "\n",
       "   act_partic_17  act_eng_17  act_math_17  act_read_17  act_sci_17  \\\n",
       "0           1.00        18.9         18.4         19.7        19.4   \n",
       "1           0.65        18.7         19.8         20.4        19.9   \n",
       "2           0.62        18.6         19.8         20.1        19.8   \n",
       "3           1.00        18.9         19.0         19.7        19.5   \n",
       "4           0.31        22.5         22.7         23.1        22.2   \n",
       "\n",
       "   act_composite_17  \n",
       "0              19.2  \n",
       "1              19.8  \n",
       "2              19.7  \n",
       "3              19.4  \n",
       "4              22.8  "
      ]
     },
     "execution_count": 16,
     "metadata": {},
     "output_type": "execute_result"
    }
   ],
   "source": [
    "scores_2017.head()"
   ]
  },
  {
   "cell_type": "markdown",
   "metadata": {},
   "source": [
    "#### 11. Save your cleaned, merged dataframe\n",
    "\n",
    "Use a relative path to save out your data as `combined_2017.csv`."
   ]
  },
  {
   "cell_type": "code",
   "execution_count": 17,
   "metadata": {},
   "outputs": [],
   "source": [
    "# code\n",
    "scores_2017.to_csv('../data/combined_2017.csv',\n",
    "                   index=False)"
   ]
  },
  {
   "cell_type": "markdown",
   "metadata": {},
   "source": [
    "## 2018 Data Import and Cleaning"
   ]
  },
  {
   "cell_type": "markdown",
   "metadata": {},
   "source": [
    "Read in the `sat_2018.csv` and `act_2018.csv` files and assign them to appropriately named pandas dataframes. For the **2018 ACT Data**, only the `Composite` scores are available. Repeat the same processes to clean the 2018 data here as you were instructed in the previous sections above."
   ]
  },
  {
   "cell_type": "code",
   "execution_count": 18,
   "metadata": {},
   "outputs": [],
   "source": [
    "sat_2018 = pd.read_csv('../data/sat_2018.csv')\n",
    "act_2018 = pd.read_csv('../data/act_2018.csv')"
   ]
  },
  {
   "cell_type": "code",
   "execution_count": 19,
   "metadata": {},
   "outputs": [
    {
     "data": {
      "text/html": [
       "<div>\n",
       "<style scoped>\n",
       "    .dataframe tbody tr th:only-of-type {\n",
       "        vertical-align: middle;\n",
       "    }\n",
       "\n",
       "    .dataframe tbody tr th {\n",
       "        vertical-align: top;\n",
       "    }\n",
       "\n",
       "    .dataframe thead th {\n",
       "        text-align: right;\n",
       "    }\n",
       "</style>\n",
       "<table border=\"1\" class=\"dataframe\">\n",
       "  <thead>\n",
       "    <tr style=\"text-align: right;\">\n",
       "      <th></th>\n",
       "      <th>State</th>\n",
       "      <th>Participation</th>\n",
       "      <th>Evidence-Based Reading and Writing</th>\n",
       "      <th>Math</th>\n",
       "      <th>Total</th>\n",
       "    </tr>\n",
       "  </thead>\n",
       "  <tbody>\n",
       "    <tr>\n",
       "      <th>0</th>\n",
       "      <td>Alabama</td>\n",
       "      <td>6%</td>\n",
       "      <td>595</td>\n",
       "      <td>571</td>\n",
       "      <td>1166</td>\n",
       "    </tr>\n",
       "    <tr>\n",
       "      <th>1</th>\n",
       "      <td>Alaska</td>\n",
       "      <td>43%</td>\n",
       "      <td>562</td>\n",
       "      <td>544</td>\n",
       "      <td>1106</td>\n",
       "    </tr>\n",
       "    <tr>\n",
       "      <th>2</th>\n",
       "      <td>Arizona</td>\n",
       "      <td>29%</td>\n",
       "      <td>577</td>\n",
       "      <td>572</td>\n",
       "      <td>1149</td>\n",
       "    </tr>\n",
       "    <tr>\n",
       "      <th>3</th>\n",
       "      <td>Arkansas</td>\n",
       "      <td>5%</td>\n",
       "      <td>592</td>\n",
       "      <td>576</td>\n",
       "      <td>1169</td>\n",
       "    </tr>\n",
       "    <tr>\n",
       "      <th>4</th>\n",
       "      <td>California</td>\n",
       "      <td>60%</td>\n",
       "      <td>540</td>\n",
       "      <td>536</td>\n",
       "      <td>1076</td>\n",
       "    </tr>\n",
       "  </tbody>\n",
       "</table>\n",
       "</div>"
      ],
      "text/plain": [
       "        State Participation  Evidence-Based Reading and Writing  Math  Total\n",
       "0     Alabama            6%                                 595   571   1166\n",
       "1      Alaska           43%                                 562   544   1106\n",
       "2     Arizona           29%                                 577   572   1149\n",
       "3    Arkansas            5%                                 592   576   1169\n",
       "4  California           60%                                 540   536   1076"
      ]
     },
     "execution_count": 19,
     "metadata": {},
     "output_type": "execute_result"
    }
   ],
   "source": [
    "sat_2018.head()"
   ]
  },
  {
   "cell_type": "code",
   "execution_count": 20,
   "metadata": {},
   "outputs": [],
   "source": [
    "# Adjust percentages to floats\n",
    "\n",
    "sat_2018['Participation'] = sat_2018['Participation'].map(pct_to_flt)\n",
    "\n",
    "act_2018['Participation'] = act_2018['Participation'].map(pct_to_flt)"
   ]
  },
  {
   "cell_type": "code",
   "execution_count": 21,
   "metadata": {},
   "outputs": [],
   "source": [
    "# Maine is duplicated in the act_2018 dataset, we can remove one of those lines\n",
    "act_2018.drop(20, inplace=True)"
   ]
  },
  {
   "cell_type": "code",
   "execution_count": 22,
   "metadata": {},
   "outputs": [],
   "source": [
    "# Just because it annoys me, correct the index\n",
    "act_2018.index = range(0, 51)"
   ]
  },
  {
   "cell_type": "code",
   "execution_count": 23,
   "metadata": {},
   "outputs": [],
   "source": [
    "# District of Columbia is incorrectly capitalized in act_2018\n",
    "act_2018.loc[act_2018['State'] == 'District of columbia',\n",
    "             'State'] = 'District of Columbia'"
   ]
  },
  {
   "cell_type": "code",
   "execution_count": 24,
   "metadata": {},
   "outputs": [],
   "source": [
    "# Adjust column names\n",
    "sat_2018.columns = ['state',\n",
    "                    'sat_partic_18',\n",
    "                    'sat_read_write_18',\n",
    "                    'sat_math_18',\n",
    "                    'sat_total_18']\n",
    "act_2018.columns = ['state',\n",
    "                    'act_partic_18',\n",
    "                    'act_composite_18']"
   ]
  },
  {
   "cell_type": "code",
   "execution_count": 25,
   "metadata": {},
   "outputs": [],
   "source": [
    "scores_2018 = pd.merge(left=sat_2018,\n",
    "                       right=act_2018,\n",
    "                       how='inner',\n",
    "                       on='state'\n",
    "                       )"
   ]
  },
  {
   "cell_type": "code",
   "execution_count": 26,
   "metadata": {},
   "outputs": [
    {
     "data": {
      "text/plain": [
       "(51, 7)"
      ]
     },
     "execution_count": 26,
     "metadata": {},
     "output_type": "execute_result"
    }
   ],
   "source": [
    "scores_2018.shape"
   ]
  },
  {
   "cell_type": "code",
   "execution_count": 27,
   "metadata": {},
   "outputs": [],
   "source": [
    "scores_2018.to_csv('../data/combined_2018.csv',\n",
    "                   index=False)"
   ]
  },
  {
   "cell_type": "markdown",
   "metadata": {},
   "source": [
    "#### Combine your 2017 and 2018 data into a single dataframe\n",
    "Joining on state names should work, assuming you formatted all your state names identically. Make sure none of your columns (other than state) have identical names. Do yourself a favor and decide if you're encoding participation rates as floats or integers and standardize this across your datasets.\n",
    "\n",
    "Save the contents of this merged dataframe as `final.csv`.\n",
    "\n",
    "**Use this combined dataframe for the remainder of the project**."
   ]
  },
  {
   "cell_type": "code",
   "execution_count": 28,
   "metadata": {},
   "outputs": [],
   "source": [
    "# Combine both dataframes into `scores`\n",
    "\n",
    "scores = pd.merge(left=scores_2017,\n",
    "                  right=scores_2018,\n",
    "                  how='inner',\n",
    "                  on='state')"
   ]
  },
  {
   "cell_type": "markdown",
   "metadata": {},
   "source": [
    "## Importing State-Level Poverty Data"
   ]
  },
  {
   "cell_type": "markdown",
   "metadata": {},
   "source": [
    "We are bringing in another column of state-level poverty data.\n",
    "\n",
    "Per the source, these data represents \"Percentage of People in Poverty by State Using 2-Year Average, 2017-2018.\"\n",
    "\n",
    "We won't be incorporating the margin of error, but it is under 2% for all data points."
   ]
  },
  {
   "cell_type": "code",
   "execution_count": 29,
   "metadata": {},
   "outputs": [],
   "source": [
    "poverty = pd.read_csv('../data/state.csv', encoding='latin1', header=None)"
   ]
  },
  {
   "cell_type": "markdown",
   "metadata": {},
   "source": [
    "This spreadsheet had pretty excel formatting, including empty rows for readability. Let's drop those:"
   ]
  },
  {
   "cell_type": "code",
   "execution_count": 30,
   "metadata": {},
   "outputs": [],
   "source": [
    "poverty.dropna(inplace=True)"
   ]
  },
  {
   "cell_type": "code",
   "execution_count": 31,
   "metadata": {},
   "outputs": [
    {
     "data": {
      "text/plain": [
       "(51, 2)"
      ]
     },
     "execution_count": 31,
     "metadata": {},
     "output_type": "execute_result"
    }
   ],
   "source": [
    "poverty.shape"
   ]
  },
  {
   "cell_type": "markdown",
   "metadata": {},
   "source": [
    "We see that we have 50 states + D.C., so this data will be compatible with our scores dataframe."
   ]
  },
  {
   "cell_type": "markdown",
   "metadata": {},
   "source": [
    "Verifying our data types:"
   ]
  },
  {
   "cell_type": "code",
   "execution_count": 32,
   "metadata": {},
   "outputs": [
    {
     "data": {
      "text/plain": [
       "0     object\n",
       "1    float64\n",
       "dtype: object"
      ]
     },
     "execution_count": 32,
     "metadata": {},
     "output_type": "execute_result"
    }
   ],
   "source": [
    "poverty.dtypes"
   ]
  },
  {
   "cell_type": "markdown",
   "metadata": {},
   "source": [
    "Verifying that the data are reasonable:"
   ]
  },
  {
   "cell_type": "code",
   "execution_count": 33,
   "metadata": {},
   "outputs": [
    {
     "data": {
      "text/html": [
       "<div>\n",
       "<style scoped>\n",
       "    .dataframe tbody tr th:only-of-type {\n",
       "        vertical-align: middle;\n",
       "    }\n",
       "\n",
       "    .dataframe tbody tr th {\n",
       "        vertical-align: top;\n",
       "    }\n",
       "\n",
       "    .dataframe thead th {\n",
       "        text-align: right;\n",
       "    }\n",
       "</style>\n",
       "<table border=\"1\" class=\"dataframe\">\n",
       "  <thead>\n",
       "    <tr style=\"text-align: right;\">\n",
       "      <th></th>\n",
       "      <th>1</th>\n",
       "    </tr>\n",
       "  </thead>\n",
       "  <tbody>\n",
       "    <tr>\n",
       "      <th>count</th>\n",
       "      <td>51.000000</td>\n",
       "    </tr>\n",
       "    <tr>\n",
       "      <th>mean</th>\n",
       "      <td>11.796078</td>\n",
       "    </tr>\n",
       "    <tr>\n",
       "      <th>std</th>\n",
       "      <td>2.843024</td>\n",
       "    </tr>\n",
       "    <tr>\n",
       "      <th>min</th>\n",
       "      <td>6.600000</td>\n",
       "    </tr>\n",
       "    <tr>\n",
       "      <th>25%</th>\n",
       "      <td>10.050000</td>\n",
       "    </tr>\n",
       "    <tr>\n",
       "      <th>50%</th>\n",
       "      <td>11.400000</td>\n",
       "    </tr>\n",
       "    <tr>\n",
       "      <th>75%</th>\n",
       "      <td>13.300000</td>\n",
       "    </tr>\n",
       "    <tr>\n",
       "      <th>max</th>\n",
       "      <td>19.800000</td>\n",
       "    </tr>\n",
       "  </tbody>\n",
       "</table>\n",
       "</div>"
      ],
      "text/plain": [
       "               1\n",
       "count  51.000000\n",
       "mean   11.796078\n",
       "std     2.843024\n",
       "min     6.600000\n",
       "25%    10.050000\n",
       "50%    11.400000\n",
       "75%    13.300000\n",
       "max    19.800000"
      ]
     },
     "execution_count": 33,
     "metadata": {},
     "output_type": "execute_result"
    }
   ],
   "source": [
    "poverty.describe()"
   ]
  },
  {
   "cell_type": "markdown",
   "metadata": {},
   "source": [
    "We note that mean poverty rate is 11.8%, lowest quartile is under 10%, and highest quartile is above 13%.\n",
    "\n",
    "Adding column names:"
   ]
  },
  {
   "cell_type": "code",
   "execution_count": 34,
   "metadata": {},
   "outputs": [],
   "source": [
    "poverty.columns = ['state', 'poverty']"
   ]
  },
  {
   "cell_type": "markdown",
   "metadata": {},
   "source": [
    "Merging with main dataframe:"
   ]
  },
  {
   "cell_type": "code",
   "execution_count": 35,
   "metadata": {},
   "outputs": [],
   "source": [
    "scores = pd.merge(left=scores,\n",
    "                  right=poverty,\n",
    "                  on='state',\n",
    "                  how='outer')"
   ]
  },
  {
   "cell_type": "markdown",
   "metadata": {},
   "source": [
    "There is an issue where the District of Columbia rows are not merging as expected, we'll correct that quickly:"
   ]
  },
  {
   "cell_type": "code",
   "execution_count": 36,
   "metadata": {},
   "outputs": [],
   "source": [
    "scores.iloc[8, 17] = 14.3\n",
    "scores.dropna(inplace=True)"
   ]
  },
  {
   "cell_type": "markdown",
   "metadata": {},
   "source": [
    "We can now write our .csv with all data we will be using included:"
   ]
  },
  {
   "cell_type": "code",
   "execution_count": 37,
   "metadata": {},
   "outputs": [],
   "source": [
    "scores.to_csv('../data/final.csv',\n",
    "              index=False)"
   ]
  },
  {
   "cell_type": "markdown",
   "metadata": {},
   "source": [
    "## Exploratory Data Analysis\n",
    "\n",
    "\n",
    "### Summary Statistics\n",
    "Transpose the output of pandas `describe` method to create a quick overview of each numeric feature."
   ]
  },
  {
   "cell_type": "code",
   "execution_count": 38,
   "metadata": {},
   "outputs": [
    {
     "data": {
      "text/html": [
       "<div>\n",
       "<style scoped>\n",
       "    .dataframe tbody tr th:only-of-type {\n",
       "        vertical-align: middle;\n",
       "    }\n",
       "\n",
       "    .dataframe tbody tr th {\n",
       "        vertical-align: top;\n",
       "    }\n",
       "\n",
       "    .dataframe thead th {\n",
       "        text-align: right;\n",
       "    }\n",
       "</style>\n",
       "<table border=\"1\" class=\"dataframe\">\n",
       "  <thead>\n",
       "    <tr style=\"text-align: right;\">\n",
       "      <th></th>\n",
       "      <th>count</th>\n",
       "      <th>mean</th>\n",
       "      <th>std</th>\n",
       "      <th>min</th>\n",
       "      <th>25%</th>\n",
       "      <th>50%</th>\n",
       "      <th>75%</th>\n",
       "      <th>max</th>\n",
       "    </tr>\n",
       "  </thead>\n",
       "  <tbody>\n",
       "    <tr>\n",
       "      <th>sat_partic_17</th>\n",
       "      <td>51.0</td>\n",
       "      <td>0.398039</td>\n",
       "      <td>0.352766</td>\n",
       "      <td>0.02</td>\n",
       "      <td>0.040</td>\n",
       "      <td>0.38</td>\n",
       "      <td>0.660</td>\n",
       "      <td>1.0</td>\n",
       "    </tr>\n",
       "    <tr>\n",
       "      <th>sat_read_write_17</th>\n",
       "      <td>51.0</td>\n",
       "      <td>569.117647</td>\n",
       "      <td>45.666901</td>\n",
       "      <td>482.00</td>\n",
       "      <td>533.500</td>\n",
       "      <td>559.00</td>\n",
       "      <td>613.000</td>\n",
       "      <td>644.0</td>\n",
       "    </tr>\n",
       "    <tr>\n",
       "      <th>sat_math_17</th>\n",
       "      <td>51.0</td>\n",
       "      <td>556.882353</td>\n",
       "      <td>47.121395</td>\n",
       "      <td>468.00</td>\n",
       "      <td>523.500</td>\n",
       "      <td>548.00</td>\n",
       "      <td>599.000</td>\n",
       "      <td>651.0</td>\n",
       "    </tr>\n",
       "    <tr>\n",
       "      <th>sat_total_17</th>\n",
       "      <td>51.0</td>\n",
       "      <td>1126.098039</td>\n",
       "      <td>92.494812</td>\n",
       "      <td>950.00</td>\n",
       "      <td>1055.500</td>\n",
       "      <td>1107.00</td>\n",
       "      <td>1212.000</td>\n",
       "      <td>1295.0</td>\n",
       "    </tr>\n",
       "    <tr>\n",
       "      <th>act_partic_17</th>\n",
       "      <td>51.0</td>\n",
       "      <td>0.652549</td>\n",
       "      <td>0.321408</td>\n",
       "      <td>0.08</td>\n",
       "      <td>0.310</td>\n",
       "      <td>0.69</td>\n",
       "      <td>1.000</td>\n",
       "      <td>1.0</td>\n",
       "    </tr>\n",
       "    <tr>\n",
       "      <th>act_eng_17</th>\n",
       "      <td>51.0</td>\n",
       "      <td>20.931373</td>\n",
       "      <td>2.353677</td>\n",
       "      <td>16.30</td>\n",
       "      <td>19.000</td>\n",
       "      <td>20.70</td>\n",
       "      <td>23.300</td>\n",
       "      <td>25.5</td>\n",
       "    </tr>\n",
       "    <tr>\n",
       "      <th>act_math_17</th>\n",
       "      <td>51.0</td>\n",
       "      <td>21.182353</td>\n",
       "      <td>1.981989</td>\n",
       "      <td>18.00</td>\n",
       "      <td>19.400</td>\n",
       "      <td>20.90</td>\n",
       "      <td>23.100</td>\n",
       "      <td>25.3</td>\n",
       "    </tr>\n",
       "    <tr>\n",
       "      <th>act_read_17</th>\n",
       "      <td>51.0</td>\n",
       "      <td>22.013725</td>\n",
       "      <td>2.067271</td>\n",
       "      <td>18.10</td>\n",
       "      <td>20.450</td>\n",
       "      <td>21.80</td>\n",
       "      <td>24.150</td>\n",
       "      <td>26.0</td>\n",
       "    </tr>\n",
       "    <tr>\n",
       "      <th>act_sci_17</th>\n",
       "      <td>51.0</td>\n",
       "      <td>21.450980</td>\n",
       "      <td>1.739353</td>\n",
       "      <td>18.20</td>\n",
       "      <td>19.950</td>\n",
       "      <td>21.30</td>\n",
       "      <td>23.200</td>\n",
       "      <td>24.9</td>\n",
       "    </tr>\n",
       "    <tr>\n",
       "      <th>act_composite_17</th>\n",
       "      <td>51.0</td>\n",
       "      <td>21.519608</td>\n",
       "      <td>2.020695</td>\n",
       "      <td>17.80</td>\n",
       "      <td>19.800</td>\n",
       "      <td>21.40</td>\n",
       "      <td>23.600</td>\n",
       "      <td>25.5</td>\n",
       "    </tr>\n",
       "    <tr>\n",
       "      <th>sat_partic_18</th>\n",
       "      <td>51.0</td>\n",
       "      <td>0.457451</td>\n",
       "      <td>0.373143</td>\n",
       "      <td>0.02</td>\n",
       "      <td>0.045</td>\n",
       "      <td>0.52</td>\n",
       "      <td>0.775</td>\n",
       "      <td>1.0</td>\n",
       "    </tr>\n",
       "    <tr>\n",
       "      <th>sat_read_write_18</th>\n",
       "      <td>51.0</td>\n",
       "      <td>563.686275</td>\n",
       "      <td>47.502627</td>\n",
       "      <td>480.00</td>\n",
       "      <td>534.500</td>\n",
       "      <td>552.00</td>\n",
       "      <td>610.500</td>\n",
       "      <td>643.0</td>\n",
       "    </tr>\n",
       "    <tr>\n",
       "      <th>sat_math_18</th>\n",
       "      <td>51.0</td>\n",
       "      <td>556.235294</td>\n",
       "      <td>47.772623</td>\n",
       "      <td>480.00</td>\n",
       "      <td>522.500</td>\n",
       "      <td>544.00</td>\n",
       "      <td>593.500</td>\n",
       "      <td>655.0</td>\n",
       "    </tr>\n",
       "    <tr>\n",
       "      <th>sat_total_18</th>\n",
       "      <td>51.0</td>\n",
       "      <td>1120.019608</td>\n",
       "      <td>94.155083</td>\n",
       "      <td>977.00</td>\n",
       "      <td>1057.500</td>\n",
       "      <td>1098.00</td>\n",
       "      <td>1204.000</td>\n",
       "      <td>1298.0</td>\n",
       "    </tr>\n",
       "    <tr>\n",
       "      <th>act_partic_18</th>\n",
       "      <td>51.0</td>\n",
       "      <td>0.617255</td>\n",
       "      <td>0.340371</td>\n",
       "      <td>0.07</td>\n",
       "      <td>0.285</td>\n",
       "      <td>0.66</td>\n",
       "      <td>1.000</td>\n",
       "      <td>1.0</td>\n",
       "    </tr>\n",
       "    <tr>\n",
       "      <th>act_composite_18</th>\n",
       "      <td>51.0</td>\n",
       "      <td>21.496078</td>\n",
       "      <td>2.111583</td>\n",
       "      <td>17.70</td>\n",
       "      <td>19.950</td>\n",
       "      <td>21.30</td>\n",
       "      <td>23.650</td>\n",
       "      <td>25.6</td>\n",
       "    </tr>\n",
       "    <tr>\n",
       "      <th>poverty</th>\n",
       "      <td>51.0</td>\n",
       "      <td>11.796078</td>\n",
       "      <td>2.843024</td>\n",
       "      <td>6.60</td>\n",
       "      <td>10.050</td>\n",
       "      <td>11.40</td>\n",
       "      <td>13.300</td>\n",
       "      <td>19.8</td>\n",
       "    </tr>\n",
       "  </tbody>\n",
       "</table>\n",
       "</div>"
      ],
      "text/plain": [
       "                   count         mean        std     min       25%      50%  \\\n",
       "sat_partic_17       51.0     0.398039   0.352766    0.02     0.040     0.38   \n",
       "sat_read_write_17   51.0   569.117647  45.666901  482.00   533.500   559.00   \n",
       "sat_math_17         51.0   556.882353  47.121395  468.00   523.500   548.00   \n",
       "sat_total_17        51.0  1126.098039  92.494812  950.00  1055.500  1107.00   \n",
       "act_partic_17       51.0     0.652549   0.321408    0.08     0.310     0.69   \n",
       "act_eng_17          51.0    20.931373   2.353677   16.30    19.000    20.70   \n",
       "act_math_17         51.0    21.182353   1.981989   18.00    19.400    20.90   \n",
       "act_read_17         51.0    22.013725   2.067271   18.10    20.450    21.80   \n",
       "act_sci_17          51.0    21.450980   1.739353   18.20    19.950    21.30   \n",
       "act_composite_17    51.0    21.519608   2.020695   17.80    19.800    21.40   \n",
       "sat_partic_18       51.0     0.457451   0.373143    0.02     0.045     0.52   \n",
       "sat_read_write_18   51.0   563.686275  47.502627  480.00   534.500   552.00   \n",
       "sat_math_18         51.0   556.235294  47.772623  480.00   522.500   544.00   \n",
       "sat_total_18        51.0  1120.019608  94.155083  977.00  1057.500  1098.00   \n",
       "act_partic_18       51.0     0.617255   0.340371    0.07     0.285     0.66   \n",
       "act_composite_18    51.0    21.496078   2.111583   17.70    19.950    21.30   \n",
       "poverty             51.0    11.796078   2.843024    6.60    10.050    11.40   \n",
       "\n",
       "                        75%     max  \n",
       "sat_partic_17         0.660     1.0  \n",
       "sat_read_write_17   613.000   644.0  \n",
       "sat_math_17         599.000   651.0  \n",
       "sat_total_17       1212.000  1295.0  \n",
       "act_partic_17         1.000     1.0  \n",
       "act_eng_17           23.300    25.5  \n",
       "act_math_17          23.100    25.3  \n",
       "act_read_17          24.150    26.0  \n",
       "act_sci_17           23.200    24.9  \n",
       "act_composite_17     23.600    25.5  \n",
       "sat_partic_18         0.775     1.0  \n",
       "sat_read_write_18   610.500   643.0  \n",
       "sat_math_18         593.500   655.0  \n",
       "sat_total_18       1204.000  1298.0  \n",
       "act_partic_18         1.000     1.0  \n",
       "act_composite_18     23.650    25.6  \n",
       "poverty              13.300    19.8  "
      ]
     },
     "execution_count": 38,
     "metadata": {},
     "output_type": "execute_result"
    }
   ],
   "source": [
    "scores.describe().transpose()"
   ]
  },
  {
   "cell_type": "markdown",
   "metadata": {},
   "source": [
    "#### Manually calculate standard deviation\n",
    "\n",
    "$$\\sigma = \\sqrt{\\frac{1}{n}\\sum_{i=1}^n(x_i - \\mu)^2}$$\n",
    "\n",
    "- Write a function to calculate standard deviation using the formula above"
   ]
  },
  {
   "cell_type": "code",
   "execution_count": 39,
   "metadata": {},
   "outputs": [],
   "source": [
    "def stdev(column):\n",
    "\n",
    "    # counter\n",
    "    sum_n = 0\n",
    "    mean_col = np.mean(column)\n",
    "\n",
    "    # Calculate the sums of (xi-mu)**2\n",
    "    for row in column:\n",
    "        sum_n += ((row - mean_col)**2)\n",
    "\n",
    "    return np.sqrt(sum_n / len(column))"
   ]
  },
  {
   "cell_type": "code",
   "execution_count": 40,
   "metadata": {},
   "outputs": [
    {
     "data": {
      "text/plain": [
       "True"
      ]
     },
     "execution_count": 40,
     "metadata": {},
     "output_type": "execute_result"
    }
   ],
   "source": [
    "# Very funny to give this prompt without\n",
    "# indicating that it would differ from panda's value...\n",
    "\n",
    "stdev(scores['act_partic_18']) == np.std(scores['act_partic_18'])"
   ]
  },
  {
   "cell_type": "markdown",
   "metadata": {},
   "source": [
    "- Use a dictionary comprehension to apply your standard deviation function to each numeric column in the dataframe. No loops.  \n",
    "- Assign the output to variable sd as a dictionary where:  \n",
    "    - Each column name is now a key  \n",
    "    - That standard deviation of the column is the value  \n",
    "    \n",
    "Example Output : {'ACT_Math': 120, 'ACT_Reading': 120, ...}"
   ]
  },
  {
   "cell_type": "code",
   "execution_count": 41,
   "metadata": {},
   "outputs": [
    {
     "data": {
      "text/plain": [
       "{'sat_partic_17': 0.3493,\n",
       " 'sat_read_write_17': 45.217,\n",
       " 'sat_math_17': 46.6571,\n",
       " 'sat_total_17': 91.5835,\n",
       " 'act_partic_17': 0.3182,\n",
       " 'act_eng_17': 2.3305,\n",
       " 'act_math_17': 1.9625,\n",
       " 'act_read_17': 2.0469,\n",
       " 'act_sci_17': 1.7222,\n",
       " 'act_composite_17': 2.0008,\n",
       " 'sat_partic_18': 0.3695,\n",
       " 'sat_read_write_18': 47.0346,\n",
       " 'sat_math_18': 47.3019,\n",
       " 'sat_total_18': 93.2274,\n",
       " 'act_partic_18': 0.337,\n",
       " 'act_composite_18': 2.0908,\n",
       " 'poverty': 2.815}"
      ]
     },
     "execution_count": 41,
     "metadata": {},
     "output_type": "execute_result"
    }
   ],
   "source": [
    "scores_sd = {\n",
    "    column: round(stdev(scores[column]), 4) for column in scores.iloc[:, 1:]\n",
    "}\n",
    "\n",
    "scores_sd"
   ]
  },
  {
   "cell_type": "markdown",
   "metadata": {},
   "source": [
    "Do your manually calculated standard deviations match up with the output from pandas `describe`? What about numpy's `std` method?"
   ]
  },
  {
   "cell_type": "markdown",
   "metadata": {},
   "source": [
    "Pandas appears to use \"unbiased\" standard deviation, while NumPy uses the provided formula. \n",
    "\n",
    "The differences are fairly minute for these data, but it is interesting to note the difference."
   ]
  },
  {
   "cell_type": "markdown",
   "metadata": {},
   "source": [
    "#### Investigate trends in the data\n",
    "\n",
    "Highest and lowest participation rates:\n",
    "- 2017 SAT\n",
    "- 2018 SAT\n",
    "- 2017 ACT\n",
    "- 2018 ACT\n"
   ]
  },
  {
   "cell_type": "code",
   "execution_count": 42,
   "metadata": {},
   "outputs": [
    {
     "name": "stdout",
     "output_type": "stream",
     "text": [
      "The states with the lowest SAT participation rates in 2017 at 2.00% were: \n",
      "-Iowa\n",
      "-Mississippi\n",
      "-North Dakota\n",
      "The states with the highest SAT participation rates in 2017 at 100.00% were: \n",
      "-Connecticut\n",
      "-Delaware\n",
      "-District of Columbia\n",
      "-Michigan\n",
      "The states with the lowest SAT participation rates in 2018 at 2.00% were: \n",
      "-North Dakota\n",
      "The states with the highest SAT participation rates in 2018 at 100.00% were: \n",
      "-Colorado\n",
      "-Connecticut\n",
      "-Delaware\n",
      "-Idaho\n",
      "-Michigan\n",
      "The states with the lowest ACT participation rates in 2017 at 8.00% were: \n",
      "-Maine\n",
      "The states with the highest ACT participation rates in 2017 at 100.00% were: \n",
      "-Alabama\n",
      "-Arkansas\n",
      "-Colorado\n",
      "-Kentucky\n",
      "-Louisiana\n",
      "-Minnesota\n",
      "-Mississippi\n",
      "-Missouri\n",
      "-Montana\n",
      "-Nevada\n",
      "-North Carolina\n",
      "-Oklahoma\n",
      "-South Carolina\n",
      "-Tennessee\n",
      "-Utah\n",
      "-Wisconsin\n",
      "-Wyoming\n",
      "The states with the lowest ACT participation rates in 2018 at 7.00% were: \n",
      "-Maine\n",
      "The states with the highest ACT participation rates in 2018 at 100.00% were: \n",
      "-Alabama\n",
      "-Arkansas\n",
      "-Kentucky\n",
      "-Louisiana\n",
      "-Mississippi\n",
      "-Missouri\n",
      "-Montana\n",
      "-Nebraska\n",
      "-Nevada\n",
      "-North Carolina\n",
      "-Ohio\n",
      "-Oklahoma\n",
      "-South Carolina\n",
      "-Tennessee\n",
      "-Utah\n",
      "-Wisconsin\n",
      "-Wyoming\n"
     ]
    }
   ],
   "source": [
    "# Loop to find and print the highest and lowest participation rates for all 4 test/year combos:\n",
    "\n",
    "for rate in ['sat_partic_17', 'sat_partic_18', 'act_partic_17', 'act_partic_18']:\n",
    "\n",
    "    # find min and max values and create placeholder text to use in format()\n",
    "    min_val = round(min(scores[rate]), 3)\n",
    "    min_txt = '{min_val:.2f}'\n",
    "    max_val = round(max(scores[rate]), 3)\n",
    "    max_txt = '{max_val:.2f}'\n",
    "\n",
    "    # create string of states which are at the min and max for each test/year separated by newline\n",
    "    min_states = '\\n-'.join(list(scores.loc[scores[rate] == min_val, 'state']))\n",
    "    max_states = '\\n-'.join(list(scores.loc[scores[rate] == max_val, 'state']))\n",
    "\n",
    "    # combine fstring and format() to display results\n",
    "    print(f'The states with the lowest {rate.upper()[:3]} participation rates in 20{rate[-2:]} at ' + min_txt.format(\n",
    "        min_val=min_val*100) + f'% were: \\n-{min_states}')\n",
    "    print(f'The states with the highest {rate.upper()[:3]} participation rates in 20{rate[-2:]} at ' + max_txt.format(\n",
    "        max_val=max_val*100) + f'% were: \\n-{max_states}')"
   ]
  },
  {
   "cell_type": "markdown",
   "metadata": {},
   "source": [
    "We notice that the ACT has more uniform, full adoption where it is used.\n",
    "\n",
    "Overall, less than 50% of states have 100% participation in either test in either year.\n",
    "\n"
   ]
  },
  {
   "cell_type": "markdown",
   "metadata": {},
   "source": [
    "Highest and lowest mean total/composite scores:\n",
    "- 2017 SAT\n",
    "- 2018 SAT\n",
    "- 2017 ACT\n",
    "- 2018 ACT"
   ]
  },
  {
   "cell_type": "code",
   "execution_count": 43,
   "metadata": {},
   "outputs": [
    {
     "name": "stdout",
     "output_type": "stream",
     "text": [
      "The state with the lowest average SAT scores in 2018 at 950.0 were: \n",
      "-District of Columbia\n",
      "The state with the highest average SAT scores in 2018 at 1295.0 were: \n",
      "-Minnesota\n",
      "The state with the lowest average SAT scores in 2018 at 977.0 were: \n",
      "-District of Columbia\n",
      "The state with the highest average SAT scores in 2018 at 1298.0 were: \n",
      "-Minnesota\n",
      "The state with the lowest average ACT scores in 2018 at 17.8 were: \n",
      "-Nevada\n",
      "The state with the highest average ACT scores in 2018 at 25.5 were: \n",
      "-New Hampshire\n",
      "The state with the lowest average ACT scores in 2018 at 17.7 were: \n",
      "-Nevada\n",
      "The state with the highest average ACT scores in 2018 at 25.6 were: \n",
      "-Connecticut\n"
     ]
    }
   ],
   "source": [
    "for score in ['sat_total_17', 'sat_total_18', 'act_composite_17', 'act_composite_18']:\n",
    "    # find min and max values and create placeholder text to use in format()\n",
    "    min_val = min(scores[score])\n",
    "    min_txt = '{min_val}'\n",
    "    max_val = max(scores[score])\n",
    "    max_txt = '{max_val}'\n",
    "\n",
    "    # create string of states which are at the min and max for each test/year separated by newline\n",
    "    min_states = '\\n-'.join(\n",
    "        list(scores.loc[scores[score] == min_val, 'state']))\n",
    "    max_states = '\\n-'.join(\n",
    "        list(scores.loc[scores[score] == max_val, 'state']))\n",
    "\n",
    "    # combine fstring and format() to display results\n",
    "    print(f'The state with the lowest average {score.upper()[:3]} scores in 20{rate[-2:]} at ' + min_txt.format(\n",
    "        min_val=min_val) + f' were: \\n-{min_states}')\n",
    "    print(f'The state with the highest average {score.upper()[:3]} scores in 20{rate[-2:]} at ' + max_txt.format(\n",
    "        max_val=max_val) + f' were: \\n-{max_states}')"
   ]
  },
  {
   "cell_type": "markdown",
   "metadata": {},
   "source": [
    "There is less comparative data to work with in these results, as there are no ties. It is noteworthy that D.C. had 100% SAT participation in 2017, but also the lowest scores both years. Perhaps high participation is linked to lower average score, which makes intuitive sense."
   ]
  },
  {
   "cell_type": "markdown",
   "metadata": {},
   "source": [
    "####  Do any states with 100% participation on a given test have a rate change year-to-year?"
   ]
  },
  {
   "cell_type": "code",
   "execution_count": 44,
   "metadata": {},
   "outputs": [
    {
     "data": {
      "text/html": [
       "<div>\n",
       "<style scoped>\n",
       "    .dataframe tbody tr th:only-of-type {\n",
       "        vertical-align: middle;\n",
       "    }\n",
       "\n",
       "    .dataframe tbody tr th {\n",
       "        vertical-align: top;\n",
       "    }\n",
       "\n",
       "    .dataframe thead th {\n",
       "        text-align: right;\n",
       "    }\n",
       "</style>\n",
       "<table border=\"1\" class=\"dataframe\">\n",
       "  <thead>\n",
       "    <tr style=\"text-align: right;\">\n",
       "      <th></th>\n",
       "      <th>state</th>\n",
       "      <th>act_partic_17</th>\n",
       "      <th>act_partic_18</th>\n",
       "      <th>sat_partic_17</th>\n",
       "      <th>sat_partic_18</th>\n",
       "    </tr>\n",
       "  </thead>\n",
       "  <tbody>\n",
       "    <tr>\n",
       "      <th>8</th>\n",
       "      <td>District of Columbia</td>\n",
       "      <td>0.32</td>\n",
       "      <td>0.32</td>\n",
       "      <td>1.0</td>\n",
       "      <td>0.92</td>\n",
       "    </tr>\n",
       "  </tbody>\n",
       "</table>\n",
       "</div>"
      ],
      "text/plain": [
       "                  state  act_partic_17  act_partic_18  sat_partic_17  \\\n",
       "8  District of Columbia           0.32           0.32            1.0   \n",
       "\n",
       "   sat_partic_18  \n",
       "8           0.92  "
      ]
     },
     "execution_count": 44,
     "metadata": {},
     "output_type": "execute_result"
    }
   ],
   "source": [
    "# States where 2017 SAT participation was 100% but not 2018\n",
    "\n",
    "scores.loc[(scores['sat_partic_17'] == 1) & (scores['sat_partic_18'] != 1), [\n",
    "    'state', 'act_partic_17', 'act_partic_18', 'sat_partic_17', 'sat_partic_18']]"
   ]
  },
  {
   "cell_type": "markdown",
   "metadata": {},
   "source": [
    "In the District of Columbia, we see that SAT participation dropped from 100% in 2017 to 92% in 2018. \n",
    "\n",
    "However, its ACT participation stayed stagnant at 32% YoY.\n",
    "\n",
    "This may not reflect much more than some schools declining to encourage students to take both tests"
   ]
  },
  {
   "cell_type": "code",
   "execution_count": 45,
   "metadata": {},
   "outputs": [
    {
     "data": {
      "text/html": [
       "<div>\n",
       "<style scoped>\n",
       "    .dataframe tbody tr th:only-of-type {\n",
       "        vertical-align: middle;\n",
       "    }\n",
       "\n",
       "    .dataframe tbody tr th {\n",
       "        vertical-align: top;\n",
       "    }\n",
       "\n",
       "    .dataframe thead th {\n",
       "        text-align: right;\n",
       "    }\n",
       "</style>\n",
       "<table border=\"1\" class=\"dataframe\">\n",
       "  <thead>\n",
       "    <tr style=\"text-align: right;\">\n",
       "      <th></th>\n",
       "      <th>state</th>\n",
       "      <th>act_partic_17</th>\n",
       "      <th>act_partic_18</th>\n",
       "      <th>sat_partic_17</th>\n",
       "      <th>sat_partic_18</th>\n",
       "    </tr>\n",
       "  </thead>\n",
       "  <tbody>\n",
       "    <tr>\n",
       "      <th>5</th>\n",
       "      <td>Colorado</td>\n",
       "      <td>1.0</td>\n",
       "      <td>0.30</td>\n",
       "      <td>0.11</td>\n",
       "      <td>1.00</td>\n",
       "    </tr>\n",
       "    <tr>\n",
       "      <th>23</th>\n",
       "      <td>Minnesota</td>\n",
       "      <td>1.0</td>\n",
       "      <td>0.99</td>\n",
       "      <td>0.03</td>\n",
       "      <td>0.04</td>\n",
       "    </tr>\n",
       "  </tbody>\n",
       "</table>\n",
       "</div>"
      ],
      "text/plain": [
       "        state  act_partic_17  act_partic_18  sat_partic_17  sat_partic_18\n",
       "5    Colorado            1.0           0.30           0.11           1.00\n",
       "23  Minnesota            1.0           0.99           0.03           0.04"
      ]
     },
     "execution_count": 45,
     "metadata": {},
     "output_type": "execute_result"
    }
   ],
   "source": [
    "# States where 2018 ACT participation was 100% in 2017 but not 2018\n",
    "\n",
    "scores.loc[(scores['act_partic_17'] == 1) & (scores['act_partic_18'] != 1), [\n",
    "    'state', 'act_partic_17', 'act_partic_18', 'sat_partic_17', 'sat_partic_18']]"
   ]
  },
  {
   "cell_type": "markdown",
   "metadata": {},
   "source": [
    "A more interesting discovery is that Colorado completely shifted gears between 2017 and 2018.\n",
    "\n",
    "The state went from 100% to 30% ACT participation YoY, while SAT participation went from 11% to 100%\n",
    "\n",
    "This is confirmed by news reports: https://www.denverpost.com/2017/03/06/colorado-juniors-sat-college-exam/"
   ]
  },
  {
   "cell_type": "markdown",
   "metadata": {},
   "source": [
    "#### Do any states show have >50% participation on *both* tests either year?"
   ]
  },
  {
   "cell_type": "code",
   "execution_count": 46,
   "metadata": {},
   "outputs": [
    {
     "data": {
      "text/html": [
       "<div>\n",
       "<style scoped>\n",
       "    .dataframe tbody tr th:only-of-type {\n",
       "        vertical-align: middle;\n",
       "    }\n",
       "\n",
       "    .dataframe tbody tr th {\n",
       "        vertical-align: top;\n",
       "    }\n",
       "\n",
       "    .dataframe thead th {\n",
       "        text-align: right;\n",
       "    }\n",
       "</style>\n",
       "<table border=\"1\" class=\"dataframe\">\n",
       "  <thead>\n",
       "    <tr style=\"text-align: right;\">\n",
       "      <th></th>\n",
       "      <th>state</th>\n",
       "      <th>act_partic_17</th>\n",
       "      <th>act_partic_18</th>\n",
       "      <th>sat_partic_17</th>\n",
       "      <th>sat_partic_18</th>\n",
       "      <th>poverty</th>\n",
       "    </tr>\n",
       "  </thead>\n",
       "  <tbody>\n",
       "    <tr>\n",
       "      <th>9</th>\n",
       "      <td>Florida</td>\n",
       "      <td>0.73</td>\n",
       "      <td>0.66</td>\n",
       "      <td>0.83</td>\n",
       "      <td>0.56</td>\n",
       "      <td>13.5</td>\n",
       "    </tr>\n",
       "    <tr>\n",
       "      <th>10</th>\n",
       "      <td>Georgia</td>\n",
       "      <td>0.55</td>\n",
       "      <td>0.53</td>\n",
       "      <td>0.61</td>\n",
       "      <td>0.70</td>\n",
       "      <td>14.0</td>\n",
       "    </tr>\n",
       "    <tr>\n",
       "      <th>11</th>\n",
       "      <td>Hawaii</td>\n",
       "      <td>0.90</td>\n",
       "      <td>0.89</td>\n",
       "      <td>0.55</td>\n",
       "      <td>0.56</td>\n",
       "      <td>9.9</td>\n",
       "    </tr>\n",
       "    <tr>\n",
       "      <th>33</th>\n",
       "      <td>North Carolina</td>\n",
       "      <td>1.00</td>\n",
       "      <td>1.00</td>\n",
       "      <td>0.49</td>\n",
       "      <td>0.52</td>\n",
       "      <td>14.1</td>\n",
       "    </tr>\n",
       "    <tr>\n",
       "      <th>40</th>\n",
       "      <td>South Carolina</td>\n",
       "      <td>1.00</td>\n",
       "      <td>1.00</td>\n",
       "      <td>0.50</td>\n",
       "      <td>0.55</td>\n",
       "      <td>14.0</td>\n",
       "    </tr>\n",
       "  </tbody>\n",
       "</table>\n",
       "</div>"
      ],
      "text/plain": [
       "             state  act_partic_17  act_partic_18  sat_partic_17  \\\n",
       "9          Florida           0.73           0.66           0.83   \n",
       "10         Georgia           0.55           0.53           0.61   \n",
       "11          Hawaii           0.90           0.89           0.55   \n",
       "33  North Carolina           1.00           1.00           0.49   \n",
       "40  South Carolina           1.00           1.00           0.50   \n",
       "\n",
       "    sat_partic_18  poverty  \n",
       "9            0.56     13.5  \n",
       "10           0.70     14.0  \n",
       "11           0.56      9.9  \n",
       "33           0.52     14.1  \n",
       "40           0.55     14.0  "
      ]
     },
     "execution_count": 46,
     "metadata": {},
     "output_type": "execute_result"
    }
   ],
   "source": [
    "act17_over50 = scores['act_partic_17'] > .5\n",
    "act18_over50 = scores['act_partic_18'] > .5\n",
    "sat17_over50 = scores['sat_partic_17'] > .5\n",
    "sat18_over50 = scores['sat_partic_18'] > .5\n",
    "\n",
    "scores[(act17_over50 & sat17_over50) | (act18_over50 & sat18_over50)][['state',\n",
    "                                                                       'act_partic_17', 'act_partic_18', 'sat_partic_17', 'sat_partic_18', 'poverty']]"
   ]
  },
  {
   "cell_type": "markdown",
   "metadata": {},
   "source": [
    "We find that Florida, Georgia, and Hawaii split fairly evenly, with over 50% participation in both tests over both years.\n",
    "\n",
    "North and South Carolina both had 100% ACT participation in both years, and 50% or close to 50% SAT participation in both years."
   ]
  },
  {
   "cell_type": "markdown",
   "metadata": {},
   "source": [
    "#### Let's add a combined participation value for both years"
   ]
  },
  {
   "cell_type": "code",
   "execution_count": 47,
   "metadata": {},
   "outputs": [],
   "source": [
    "# total_partic_1* will be the sum of SAT and ACT participation for that year\n",
    "scores['total_partic_17'] = scores['sat_partic_17'] + scores['act_partic_17']\n",
    "scores['total_partic_18'] = scores['sat_partic_18'] + scores['act_partic_18']"
   ]
  },
  {
   "cell_type": "markdown",
   "metadata": {},
   "source": [
    "These columns show the ratio of total tests taken to number of graduating high schoolers by state and year. Let's see which states have the highest overall ratio of tests to students: "
   ]
  },
  {
   "cell_type": "code",
   "execution_count": 48,
   "metadata": {},
   "outputs": [
    {
     "data": {
      "text/html": [
       "<div>\n",
       "<style scoped>\n",
       "    .dataframe tbody tr th:only-of-type {\n",
       "        vertical-align: middle;\n",
       "    }\n",
       "\n",
       "    .dataframe tbody tr th {\n",
       "        vertical-align: top;\n",
       "    }\n",
       "\n",
       "    .dataframe thead th {\n",
       "        text-align: right;\n",
       "    }\n",
       "</style>\n",
       "<table border=\"1\" class=\"dataframe\">\n",
       "  <thead>\n",
       "    <tr style=\"text-align: right;\">\n",
       "      <th></th>\n",
       "      <th>state</th>\n",
       "      <th>total_partic_17</th>\n",
       "      <th>poverty</th>\n",
       "    </tr>\n",
       "  </thead>\n",
       "  <tbody>\n",
       "    <tr>\n",
       "      <th>9</th>\n",
       "      <td>Florida</td>\n",
       "      <td>1.56</td>\n",
       "      <td>13.5</td>\n",
       "    </tr>\n",
       "    <tr>\n",
       "      <th>40</th>\n",
       "      <td>South Carolina</td>\n",
       "      <td>1.50</td>\n",
       "      <td>14.0</td>\n",
       "    </tr>\n",
       "    <tr>\n",
       "      <th>33</th>\n",
       "      <td>North Carolina</td>\n",
       "      <td>1.49</td>\n",
       "      <td>14.1</td>\n",
       "    </tr>\n",
       "    <tr>\n",
       "      <th>11</th>\n",
       "      <td>Hawaii</td>\n",
       "      <td>1.45</td>\n",
       "      <td>9.9</td>\n",
       "    </tr>\n",
       "    <tr>\n",
       "      <th>8</th>\n",
       "      <td>District of Columbia</td>\n",
       "      <td>1.32</td>\n",
       "      <td>14.3</td>\n",
       "    </tr>\n",
       "    <tr>\n",
       "      <th>12</th>\n",
       "      <td>Idaho</td>\n",
       "      <td>1.31</td>\n",
       "      <td>11.5</td>\n",
       "    </tr>\n",
       "    <tr>\n",
       "      <th>6</th>\n",
       "      <td>Connecticut</td>\n",
       "      <td>1.31</td>\n",
       "      <td>10.4</td>\n",
       "    </tr>\n",
       "    <tr>\n",
       "      <th>22</th>\n",
       "      <td>Michigan</td>\n",
       "      <td>1.29</td>\n",
       "      <td>11.0</td>\n",
       "    </tr>\n",
       "    <tr>\n",
       "      <th>28</th>\n",
       "      <td>Nevada</td>\n",
       "      <td>1.26</td>\n",
       "      <td>13.1</td>\n",
       "    </tr>\n",
       "    <tr>\n",
       "      <th>7</th>\n",
       "      <td>Delaware</td>\n",
       "      <td>1.18</td>\n",
       "      <td>8.1</td>\n",
       "    </tr>\n",
       "  </tbody>\n",
       "</table>\n",
       "</div>"
      ],
      "text/plain": [
       "                   state  total_partic_17  poverty\n",
       "9                Florida             1.56     13.5\n",
       "40        South Carolina             1.50     14.0\n",
       "33        North Carolina             1.49     14.1\n",
       "11                Hawaii             1.45      9.9\n",
       "8   District of Columbia             1.32     14.3\n",
       "12                 Idaho             1.31     11.5\n",
       "6            Connecticut             1.31     10.4\n",
       "22              Michigan             1.29     11.0\n",
       "28                Nevada             1.26     13.1\n",
       "7               Delaware             1.18      8.1"
      ]
     },
     "execution_count": 48,
     "metadata": {},
     "output_type": "execute_result"
    }
   ],
   "source": [
    "scores[['state', 'total_partic_17', 'poverty']].sort_values(\n",
    "    'total_partic_17', ascending=False).head(10)"
   ]
  },
  {
   "cell_type": "code",
   "execution_count": 49,
   "metadata": {},
   "outputs": [
    {
     "data": {
      "text/html": [
       "<div>\n",
       "<style scoped>\n",
       "    .dataframe tbody tr th:only-of-type {\n",
       "        vertical-align: middle;\n",
       "    }\n",
       "\n",
       "    .dataframe tbody tr th {\n",
       "        vertical-align: top;\n",
       "    }\n",
       "\n",
       "    .dataframe thead th {\n",
       "        text-align: right;\n",
       "    }\n",
       "</style>\n",
       "<table border=\"1\" class=\"dataframe\">\n",
       "  <thead>\n",
       "    <tr style=\"text-align: right;\">\n",
       "      <th></th>\n",
       "      <th>state</th>\n",
       "      <th>total_partic_18</th>\n",
       "      <th>poverty</th>\n",
       "    </tr>\n",
       "  </thead>\n",
       "  <tbody>\n",
       "    <tr>\n",
       "      <th>40</th>\n",
       "      <td>South Carolina</td>\n",
       "      <td>1.55</td>\n",
       "      <td>14.0</td>\n",
       "    </tr>\n",
       "    <tr>\n",
       "      <th>33</th>\n",
       "      <td>North Carolina</td>\n",
       "      <td>1.52</td>\n",
       "      <td>14.1</td>\n",
       "    </tr>\n",
       "    <tr>\n",
       "      <th>11</th>\n",
       "      <td>Hawaii</td>\n",
       "      <td>1.45</td>\n",
       "      <td>9.9</td>\n",
       "    </tr>\n",
       "    <tr>\n",
       "      <th>13</th>\n",
       "      <td>Illinois</td>\n",
       "      <td>1.42</td>\n",
       "      <td>10.9</td>\n",
       "    </tr>\n",
       "    <tr>\n",
       "      <th>12</th>\n",
       "      <td>Idaho</td>\n",
       "      <td>1.36</td>\n",
       "      <td>11.5</td>\n",
       "    </tr>\n",
       "    <tr>\n",
       "      <th>5</th>\n",
       "      <td>Colorado</td>\n",
       "      <td>1.30</td>\n",
       "      <td>9.0</td>\n",
       "    </tr>\n",
       "    <tr>\n",
       "      <th>6</th>\n",
       "      <td>Connecticut</td>\n",
       "      <td>1.26</td>\n",
       "      <td>10.4</td>\n",
       "    </tr>\n",
       "    <tr>\n",
       "      <th>8</th>\n",
       "      <td>District of Columbia</td>\n",
       "      <td>1.24</td>\n",
       "      <td>14.3</td>\n",
       "    </tr>\n",
       "    <tr>\n",
       "      <th>28</th>\n",
       "      <td>Nevada</td>\n",
       "      <td>1.23</td>\n",
       "      <td>13.1</td>\n",
       "    </tr>\n",
       "    <tr>\n",
       "      <th>10</th>\n",
       "      <td>Georgia</td>\n",
       "      <td>1.23</td>\n",
       "      <td>14.0</td>\n",
       "    </tr>\n",
       "  </tbody>\n",
       "</table>\n",
       "</div>"
      ],
      "text/plain": [
       "                   state  total_partic_18  poverty\n",
       "40        South Carolina             1.55     14.0\n",
       "33        North Carolina             1.52     14.1\n",
       "11                Hawaii             1.45      9.9\n",
       "13              Illinois             1.42     10.9\n",
       "12                 Idaho             1.36     11.5\n",
       "5               Colorado             1.30      9.0\n",
       "6            Connecticut             1.26     10.4\n",
       "8   District of Columbia             1.24     14.3\n",
       "28                Nevada             1.23     13.1\n",
       "10               Georgia             1.23     14.0"
      ]
     },
     "execution_count": 49,
     "metadata": {},
     "output_type": "execute_result"
    }
   ],
   "source": [
    "scores[['state', 'total_partic_18', 'poverty']].sort_values(\n",
    "    'total_partic_18', ascending=False).head(10)"
   ]
  },
  {
   "cell_type": "markdown",
   "metadata": {},
   "source": [
    "Unsurprisingly, most of the faces here were present in the >50% list we just looked at. \n",
    "\n",
    "Interestingly, most of the high-participation states appear to be above the mean poverty rate.\n",
    "\n",
    "We also notice some big jumps YoY, including Illinois and Colorado."
   ]
  },
  {
   "cell_type": "code",
   "execution_count": 79,
   "metadata": {},
   "outputs": [
    {
     "data": {
      "text/html": [
       "<div>\n",
       "<style scoped>\n",
       "    .dataframe tbody tr th:only-of-type {\n",
       "        vertical-align: middle;\n",
       "    }\n",
       "\n",
       "    .dataframe tbody tr th {\n",
       "        vertical-align: top;\n",
       "    }\n",
       "\n",
       "    .dataframe thead th {\n",
       "        text-align: right;\n",
       "    }\n",
       "</style>\n",
       "<table border=\"1\" class=\"dataframe\">\n",
       "  <thead>\n",
       "    <tr style=\"text-align: right;\">\n",
       "      <th></th>\n",
       "      <th>state</th>\n",
       "      <th>total_partic_17</th>\n",
       "      <th>poverty</th>\n",
       "    </tr>\n",
       "  </thead>\n",
       "  <tbody>\n",
       "    <tr>\n",
       "      <th>15</th>\n",
       "      <td>Iowa</td>\n",
       "      <td>0.69</td>\n",
       "      <td>8.2</td>\n",
       "    </tr>\n",
       "    <tr>\n",
       "      <th>16</th>\n",
       "      <td>Kansas</td>\n",
       "      <td>0.77</td>\n",
       "      <td>10.9</td>\n",
       "    </tr>\n",
       "    <tr>\n",
       "      <th>31</th>\n",
       "      <td>New Mexico</td>\n",
       "      <td>0.77</td>\n",
       "      <td>18.2</td>\n",
       "    </tr>\n",
       "    <tr>\n",
       "      <th>48</th>\n",
       "      <td>West Virginia</td>\n",
       "      <td>0.83</td>\n",
       "      <td>16.5</td>\n",
       "    </tr>\n",
       "    <tr>\n",
       "      <th>37</th>\n",
       "      <td>Oregon</td>\n",
       "      <td>0.83</td>\n",
       "      <td>10.6</td>\n",
       "    </tr>\n",
       "    <tr>\n",
       "      <th>41</th>\n",
       "      <td>South Dakota</td>\n",
       "      <td>0.83</td>\n",
       "      <td>10.7</td>\n",
       "    </tr>\n",
       "    <tr>\n",
       "      <th>4</th>\n",
       "      <td>California</td>\n",
       "      <td>0.84</td>\n",
       "      <td>12.0</td>\n",
       "    </tr>\n",
       "    <tr>\n",
       "      <th>27</th>\n",
       "      <td>Nebraska</td>\n",
       "      <td>0.87</td>\n",
       "      <td>11.0</td>\n",
       "    </tr>\n",
       "    <tr>\n",
       "      <th>35</th>\n",
       "      <td>Ohio</td>\n",
       "      <td>0.87</td>\n",
       "      <td>12.4</td>\n",
       "    </tr>\n",
       "    <tr>\n",
       "      <th>38</th>\n",
       "      <td>Pennsylvania</td>\n",
       "      <td>0.88</td>\n",
       "      <td>11.4</td>\n",
       "    </tr>\n",
       "  </tbody>\n",
       "</table>\n",
       "</div>"
      ],
      "text/plain": [
       "            state  total_partic_17  poverty\n",
       "15           Iowa             0.69      8.2\n",
       "16         Kansas             0.77     10.9\n",
       "31     New Mexico             0.77     18.2\n",
       "48  West Virginia             0.83     16.5\n",
       "37         Oregon             0.83     10.6\n",
       "41   South Dakota             0.83     10.7\n",
       "4      California             0.84     12.0\n",
       "27       Nebraska             0.87     11.0\n",
       "35           Ohio             0.87     12.4\n",
       "38   Pennsylvania             0.88     11.4"
      ]
     },
     "execution_count": 79,
     "metadata": {},
     "output_type": "execute_result"
    }
   ],
   "source": [
    "scores[['state', 'total_partic_17', 'poverty']].sort_values(\n",
    "    'total_partic_17', ascending=True).head(10)"
   ]
  },
  {
   "cell_type": "code",
   "execution_count": 51,
   "metadata": {},
   "outputs": [
    {
     "data": {
      "text/html": [
       "<div>\n",
       "<style scoped>\n",
       "    .dataframe tbody tr th:only-of-type {\n",
       "        vertical-align: middle;\n",
       "    }\n",
       "\n",
       "    .dataframe tbody tr th {\n",
       "        vertical-align: top;\n",
       "    }\n",
       "\n",
       "    .dataframe thead th {\n",
       "        text-align: right;\n",
       "    }\n",
       "</style>\n",
       "<table border=\"1\" class=\"dataframe\">\n",
       "  <thead>\n",
       "    <tr style=\"text-align: right;\">\n",
       "      <th></th>\n",
       "      <th>state</th>\n",
       "      <th>total_partic_18</th>\n",
       "      <th>poverty</th>\n",
       "    </tr>\n",
       "  </thead>\n",
       "  <tbody>\n",
       "    <tr>\n",
       "      <th>15</th>\n",
       "      <td>Iowa</td>\n",
       "      <td>0.71</td>\n",
       "      <td>8.2</td>\n",
       "    </tr>\n",
       "    <tr>\n",
       "      <th>16</th>\n",
       "      <td>Kansas</td>\n",
       "      <td>0.75</td>\n",
       "      <td>10.9</td>\n",
       "    </tr>\n",
       "    <tr>\n",
       "      <th>1</th>\n",
       "      <td>Alaska</td>\n",
       "      <td>0.76</td>\n",
       "      <td>12.6</td>\n",
       "    </tr>\n",
       "    <tr>\n",
       "      <th>41</th>\n",
       "      <td>South Dakota</td>\n",
       "      <td>0.80</td>\n",
       "      <td>10.7</td>\n",
       "    </tr>\n",
       "    <tr>\n",
       "      <th>31</th>\n",
       "      <td>New Mexico</td>\n",
       "      <td>0.83</td>\n",
       "      <td>18.2</td>\n",
       "    </tr>\n",
       "    <tr>\n",
       "      <th>4</th>\n",
       "      <td>California</td>\n",
       "      <td>0.87</td>\n",
       "      <td>12.0</td>\n",
       "    </tr>\n",
       "    <tr>\n",
       "      <th>45</th>\n",
       "      <td>Vermont</td>\n",
       "      <td>0.88</td>\n",
       "      <td>9.2</td>\n",
       "    </tr>\n",
       "    <tr>\n",
       "      <th>37</th>\n",
       "      <td>Oregon</td>\n",
       "      <td>0.90</td>\n",
       "      <td>10.6</td>\n",
       "    </tr>\n",
       "    <tr>\n",
       "      <th>38</th>\n",
       "      <td>Pennsylvania</td>\n",
       "      <td>0.90</td>\n",
       "      <td>11.4</td>\n",
       "    </tr>\n",
       "    <tr>\n",
       "      <th>46</th>\n",
       "      <td>Virginia</td>\n",
       "      <td>0.92</td>\n",
       "      <td>10.1</td>\n",
       "    </tr>\n",
       "  </tbody>\n",
       "</table>\n",
       "</div>"
      ],
      "text/plain": [
       "           state  total_partic_18  poverty\n",
       "15          Iowa             0.71      8.2\n",
       "16        Kansas             0.75     10.9\n",
       "1         Alaska             0.76     12.6\n",
       "41  South Dakota             0.80     10.7\n",
       "31    New Mexico             0.83     18.2\n",
       "4     California             0.87     12.0\n",
       "45       Vermont             0.88      9.2\n",
       "37        Oregon             0.90     10.6\n",
       "38  Pennsylvania             0.90     11.4\n",
       "46      Virginia             0.92     10.1"
      ]
     },
     "execution_count": 51,
     "metadata": {},
     "output_type": "execute_result"
    }
   ],
   "source": [
    "scores[['state', 'total_partic_18', 'poverty']].sort_values(\n",
    "    'total_partic_18', ascending=True).head(10)"
   ]
  },
  {
   "cell_type": "markdown",
   "metadata": {},
   "source": [
    "Here we have the table sorted by total participation, but in ascending order.\n",
    "\n",
    "Alaska's test:student ratio seems to have dropped significantly between '17 and '18, and Iowa is lowest overall across both years.\n",
    "\n",
    "Poverty rates seem to be lower in low-participation states."
   ]
  },
  {
   "cell_type": "markdown",
   "metadata": {},
   "source": [
    "## Visualize the data\n",
    "\n",
    "There's not a magic bullet recommendation for the right number of plots to understand a given dataset, but visualizing your data is *always* a good idea. Not only does it allow you to quickly convey your findings (even if you have a non-technical audience), it will often reveal trends in your data that escaped you when you were looking only at numbers.\n",
    "\n",
    "Some recommendations on plotting:\n",
    "- Plots have titles\n",
    "- Plots have axis labels\n",
    "- Plots have appropriate tick labels\n",
    "- All text is legible in a plot\n",
    "- Plots demonstrate meaningful and valid relationships\n",
    "- Plots are interpreted to aid understanding\n",
    "\n",
    "There is such a thing as too many plots, and there are a *lot* of bad plots. You might make some! (But hopefully not with the guided prompts below)."
   ]
  },
  {
   "cell_type": "markdown",
   "metadata": {},
   "source": [
    "#### Use Seaborn's heatmap with pandas `.corr()` to visualize correlations between all numeric features\n",
    "\n",
    "Heatmaps are generally not appropriate for presentations, and should often be excluded from reports as they can be visually overwhelming. **However**, they can be extremely useful in identify relationships of potential interest (as well as identifying potential collinearity before modeling).\n",
    "\n",
    "*example*:\n",
    "```python\n",
    "sns.heatmap(df.corr())\n",
    "```\n",
    "\n",
    "Please take time to format your output, adding a title. Look through some of the additional arguments and options. (Axis labels aren't really necessary, as long as the title is informative)."
   ]
  },
  {
   "cell_type": "code",
   "execution_count": 52,
   "metadata": {},
   "outputs": [
    {
     "data": {
      "text/plain": [
       "Text(0.5, 1, 'Correlation Heatmap of 2017-2018 SAT, ACT, and Poverty')"
      ]
     },
     "execution_count": 52,
     "metadata": {},
     "output_type": "execute_result"
    },
    {
     "data": {
      "image/png": "[encoded data removed]",
      "text/plain": [
       "<Figure size 720x576 with 2 Axes>"
      ]
     },
     "metadata": {
      "needs_background": "light"
     },
     "output_type": "display_data"
    }
   ],
   "source": [
    "plt.figure(figsize=(10, 8))\n",
    "sns.heatmap(scores.corr(), cmap='YlGnBu_r')\n",
    "plt.title('Correlation Heatmap of 2017-2018 SAT, ACT, and Poverty')"
   ]
  },
  {
   "cell_type": "markdown",
   "metadata": {},
   "source": [
    "In this correlation heatmap, we get the birds-eye view of our numeric data.\n",
    "\n",
    "We see that certain blocks of variables are tightly correlated. These are the various SAT scores compared to themselves and the other year, plus the ACT scores to themselves and the other year.\n",
    "\n",
    "These are not particularly surprising, since we're dealing with state-level averages. Instead, the main insights here come from all those middle-of-the-spectrum correlations, in the light green/teal range.\n",
    "\n",
    "We notice that SAT and ACT participation rates are strongly correlated with scores in the opposite test, which is interesting. Perhaps when the state prefers or mandates students to take one test, the students who opt into taking the other one as well are better-prepared, since it is volunatry.\n",
    "\n",
    "The other field to look over carefully is our added poverty index. Here, we see the strongest correlation with ACT participation; it seems that the ACT might be preferred in states with higher poverty rates.\n",
    "\n",
    "We also notice that poverty rate has a markedly lower correlation with ACT scores than with SAT scores. It is important to note, however, that variation in participation rates was also correlated to poverty, so this is not a totally independent relationship."
   ]
  },
  {
   "cell_type": "markdown",
   "metadata": {},
   "source": [
    "#### Define a custom function to subplot histograms\n",
    "\n",
    "We have data for two tests for two years. We only have composite (and not subtest scores) for the 2018 ACT. We should write a function that will take the names of 2+ columns and subplot histograms. While you can use pandas plotting or Seaborn here, matplotlib gives you greater control over all aspects of your plots.\n",
    "\n",
    "[Helpful Link for Plotting Multiple Figures](https://matplotlib.org/users/pyplot_tutorial.html#working-with-multiple-figures-and-axes)\n",
    "\n",
    "Here's some starter code:"
   ]
  },
  {
   "cell_type": "code",
   "execution_count": 53,
   "metadata": {},
   "outputs": [],
   "source": [
    "def subplot_histograms(dataframe, list_of_columns, list_of_titles, list_of_xlabels):\n",
    "    # Make each histogram a different color:\n",
    "    colors = ['blue', 'indigo', 'violet', 'purple']\n",
    "    # Makes sure you have enough rows\n",
    "    nrows = int(np.ceil(len(list_of_columns)/2))\n",
    "    # You'll want to specify your figsize\n",
    "    fig, ax = plt.subplots(nrows=nrows, ncols=2, figsize=(10, 8))\n",
    "    ax = ax.ravel()  # Ravel turns a matrix into a vector, which is easier to iterate\n",
    "    # Gives us an index value to get into all our lists\n",
    "\n",
    "    for i, column in enumerate(list_of_columns):\n",
    "\n",
    "        # feel free to add more settings\n",
    "        ax[i].hist(dataframe[column], bins=12, color=colors[i])\n",
    "        # Set titles, labels, etc here for each subplot\n",
    "        ax[i].set_title(list_of_titles[i])\n",
    "        ax[i].set_xlabel(list_of_xlabels[i])\n",
    "\n",
    "        plt.tight_layout()"
   ]
  },
  {
   "cell_type": "code",
   "execution_count": 54,
   "metadata": {
    "scrolled": true
   },
   "outputs": [
    {
     "data": {
      "image/png": "[encoded data removed]",
      "text/plain": [
       "<Figure size 720x576 with 4 Axes>"
      ]
     },
     "metadata": {
      "needs_background": "light"
     },
     "output_type": "display_data"
    }
   ],
   "source": [
    "subplot_histograms(scores, ['sat_total_17', 'sat_total_18', 'act_composite_17', 'act_composite_18'], [\n",
    "                   'SAT Scores 2017', 'SAT Scores 2018', 'ACT Scores 2017', 'ACT Scores 2018'], ['Total Score', 'Total Score', 'Composite Score', 'Composite Score'])"
   ]
  },
  {
   "cell_type": "markdown",
   "metadata": {},
   "source": [
    "We observe that state average scores for all four tests appear to follow multimodal distributions. This suggests that, with our current tools, we will not be able to perform much in the way of statistical analysis on these distributions.\n",
    "\n",
    "For the SAT, the local maxima are around 1000-1050 and 1225-1275.\n",
    "\n",
    "For the ACT, the lower mode is around 19-20, and the higher around 24.\n",
    "\n",
    "The distributions themselves do not seem to vary drastically from year to year."
   ]
  },
  {
   "cell_type": "code",
   "execution_count": 55,
   "metadata": {},
   "outputs": [
    {
     "data": {
      "text/plain": [
       "Text(0.5, 0, 'Poverty Rate (%)')"
      ]
     },
     "execution_count": 55,
     "metadata": {},
     "output_type": "execute_result"
    },
    {
     "data": {
      "image/png": "[encoded data removed]",
      "text/plain": [
       "<Figure size 432x360 with 1 Axes>"
      ]
     },
     "metadata": {
      "needs_background": "light"
     },
     "output_type": "display_data"
    }
   ],
   "source": [
    "plt.figure(figsize=(6, 5))\n",
    "plt.hist(scores['poverty'], color='purple')\n",
    "plt.title('Distribution of Poverty Rate by State')\n",
    "plt.xlabel('Poverty Rate (%)')"
   ]
  },
  {
   "cell_type": "markdown",
   "metadata": {},
   "source": [
    "Poverty rate appears to be roughly normally distributed among states. Relating the correlation of a normal distribution to a multimodal distribution may raise complications."
   ]
  },
  {
   "cell_type": "markdown",
   "metadata": {},
   "source": [
    "#### Plot and interpret histograms \n",
    "For each of the following:\n",
    "- Participation rates for SAT & ACT\n",
    "- Math scores for SAT & ACT\n",
    "- Reading/verbal scores for SAT & ACT\n",
    "\n",
    "*Note: We cover the particularities of each variable's distribution thoroughly enough in this section that the Bonus prompts in 'Descriptive and Inferential Statistics' felt mostly redundant. None of these distributions are Normal, and are likely better modeled as a combination of two distributions. In order to conduct effective comparative analysis, it is necessary to split the state data up based on participation for at least one test, which we will do in the final section.*\n",
    "\n",
    "*The main effect we see is a selection bias which occurs due to states mandating one test over the other. Very low participation on a test reflects a very different population compared to the average state test-taker, as these students will almost certainly have self-funded the test fee and take it believing they will be able to achieve a high score.*"
   ]
  },
  {
   "cell_type": "code",
   "execution_count": 56,
   "metadata": {},
   "outputs": [
    {
     "data": {
      "image/png": "[encoded data removed]",
      "text/plain": [
       "<Figure size 720x576 with 4 Axes>"
      ]
     },
     "metadata": {
      "needs_background": "light"
     },
     "output_type": "display_data"
    }
   ],
   "source": [
    "subplot_histograms(scores, ['sat_partic_17', 'sat_partic_18', 'act_partic_17', 'act_partic_18'], ['SAT Participation Rate, 2017', 'SAT Participation Rate, 2018',\n",
    "                                                                                                  'ACT Participation Rate, 2017', 'ACT Participation Rate, 2018'], ['Participation', 'Participation', 'Participation', 'Participation'])"
   ]
  },
  {
   "cell_type": "markdown",
   "metadata": {},
   "source": [
    "Like the distributions of scores, we notice multimodal distributions of participation rates. This makes sense, as some states mandate one test or the other.\n",
    "\n",
    "This also affirms our suspicion that there are strong relationships between participation rate and average score."
   ]
  },
  {
   "cell_type": "code",
   "execution_count": 57,
   "metadata": {},
   "outputs": [
    {
     "data": {
      "image/png": "[encoded data removed]",
      "text/plain": [
       "<Figure size 720x576 with 2 Axes>"
      ]
     },
     "metadata": {
      "needs_background": "light"
     },
     "output_type": "display_data"
    }
   ],
   "source": [
    "# This is easier to store as variables before passing to the histogram function\n",
    "cols = ['sat_math_17', 'act_math_17']\n",
    "titles = ['Average SAT Math Scores by State, 2017',\n",
    "          'Average ACT Math Scores by State, 2017']\n",
    "xlabels = ['Math Score 400-800', 'Math Score 10-36']\n",
    "\n",
    "subplot_histograms(scores, cols, titles, xlabels)"
   ]
  },
  {
   "cell_type": "markdown",
   "metadata": {},
   "source": [
    "Sticking with our theme, we see that math scores follow a multimodal distribution. "
   ]
  },
  {
   "cell_type": "code",
   "execution_count": 58,
   "metadata": {
    "scrolled": true
   },
   "outputs": [
    {
     "data": {
      "image/png": "[encoded data removed]",
      "text/plain": [
       "<Figure size 720x576 with 2 Axes>"
      ]
     },
     "metadata": {
      "needs_background": "light"
     },
     "output_type": "display_data"
    }
   ],
   "source": [
    "cols = ['sat_read_write_17', 'act_read_17']\n",
    "titles = ['Average SAT Reading and Writing Scores by State, 2017',\n",
    "          'Average ACT Reading Scores by State, 2017']\n",
    "xlabels = ['Reading and Writing Score 400-800', 'Reading Score 10-36']\n",
    "\n",
    "\n",
    "subplot_histograms(scores, cols, titles, xlabels)"
   ]
  },
  {
   "cell_type": "markdown",
   "metadata": {},
   "source": [
    "The two-peaks feature is even more pronounced in reading than math."
   ]
  },
  {
   "cell_type": "markdown",
   "metadata": {},
   "source": [
    "#### Plot and interpret scatter plots\n",
    "For each of the following:\n",
    "- SAT vs. ACT math scores for 2017\n",
    "- SAT vs. ACT verbal/reading scores for 2017\n",
    "- SAT vs. ACT total/composite scores for 2017\n",
    "- Total scores for SAT 2017 vs. 2018\n",
    "- Composite scores for ACT 2017 vs. 2018\n",
    "    \n",
    "Plot the two variables against each other using matplotlib or Seaborn\n",
    "    \n",
    "Your plots should show:\n",
    "- Two clearly labeled axes\n",
    "- A proper title\n",
    "- Using colors and symbols that are clear and unmistakable\n",
    "    \n",
    "**Feel free to write a custom function, and subplot if you'd like.** Functions save both time and space."
   ]
  },
  {
   "cell_type": "code",
   "execution_count": 59,
   "metadata": {},
   "outputs": [],
   "source": [
    "# Code\n",
    "def scatter(dataframe, columns, title, xlabel, ylabel):\n",
    "    plt.figure(figsize=(8, 6))\n",
    "    sns.scatterplot(dataframe[columns[0]], dataframe[columns[1]],\n",
    "                    hue=dataframe[columns[2]], legend='brief',\n",
    "                    palette='RdPu')\n",
    "    plt.vlines(np.mean(dataframe[columns[0]]), ymin=min(\n",
    "        dataframe[columns[1]]), ymax=max(dataframe[columns[1]]), color='pink')\n",
    "    plt.hlines(np.mean(dataframe[columns[1]]), xmin=min(\n",
    "        dataframe[columns[0]]), xmax=max(dataframe[columns[0]]), color='pink')\n",
    "    plt.title(title)\n",
    "    plt.xlabel(xlabel)\n",
    "    plt.ylabel(ylabel)"
   ]
  },
  {
   "cell_type": "code",
   "execution_count": 60,
   "metadata": {},
   "outputs": [
    {
     "data": {
      "image/png": "[encoded data removed]",
      "text/plain": [
       "<Figure size 576x432 with 1 Axes>"
      ]
     },
     "metadata": {
      "needs_background": "light"
     },
     "output_type": "display_data"
    }
   ],
   "source": [
    "cols = ['sat_total_17', 'act_composite_17', 'poverty']\n",
    "title = 'Total/Composite Scores for the SAT vs ACT by Poverty Index'\n",
    "xlabel = 'SAT Total Score'\n",
    "ylabel = 'ACT Composite Score'\n",
    "\n",
    "scatter(scores, cols, title, xlabel, ylabel)"
   ]
  },
  {
   "cell_type": "markdown",
   "metadata": {},
   "source": [
    "We added color as a third value on these scatter plots, representing the % of families under the poverty line in each state. We've also added lines indicating the mean scores for both variables.\n",
    "\n",
    "SAT and ACT scores clearly seem to be related. There are roughly three clusters: High ACT/Low SAT, Low ACT/High SAT, and Low ACT/Low SAT.\n",
    "\n",
    "The absence of a High ACT/High SAT cluster suggests that the state average is more influenced by participation than other factors, though a high poverty rate seems to pull scores down for both tests."
   ]
  },
  {
   "cell_type": "code",
   "execution_count": 61,
   "metadata": {},
   "outputs": [
    {
     "data": {
      "image/png": "[encoded data removed]",
      "text/plain": [
       "<Figure size 576x432 with 1 Axes>"
      ]
     },
     "metadata": {
      "needs_background": "light"
     },
     "output_type": "display_data"
    }
   ],
   "source": [
    "cols = ['sat_math_17', 'act_math_17', 'poverty']\n",
    "title = 'Math Scores for the SAT vs ACT by Poverty Index'\n",
    "xlabel = 'SAT Math Score'\n",
    "ylabel = 'ACT Math Score'\n",
    "\n",
    "scatter(scores, cols, title, xlabel, ylabel)"
   ]
  },
  {
   "cell_type": "markdown",
   "metadata": {},
   "source": [
    "We observe a non-linear but compelling relationship between ACT and SAT math scores. High SAT scores imply low ACT scores and vice-versa.\n",
    "\n",
    "Higher poverty states clearly show lower reading scores, though it this relationship appears stronger for the ACT than the SAT."
   ]
  },
  {
   "cell_type": "code",
   "execution_count": 62,
   "metadata": {
    "scrolled": true
   },
   "outputs": [
    {
     "data": {
      "image/png": "[encoded data removed]",
      "text/plain": [
       "<Figure size 576x432 with 1 Axes>"
      ]
     },
     "metadata": {
      "needs_background": "light"
     },
     "output_type": "display_data"
    }
   ],
   "source": [
    "cols = ['sat_read_write_17', 'act_read_17', 'poverty']\n",
    "title = 'Reading and Writing Scores for the SAT vs ACT by Poverty Index'\n",
    "xlabel = 'SAT R/W Score'\n",
    "ylabel = 'ACT Reading Score'\n",
    "\n",
    "scatter(scores, cols, title, xlabel, ylabel)"
   ]
  },
  {
   "cell_type": "markdown",
   "metadata": {},
   "source": [
    "Like the math scores, there is a non-linear relationship between ACT and SAT reading scores. High SAT scores imply low ACT scores and vice-versa.\n",
    "\n",
    "Higher poverty states have lower reading scores, though it is more pronounced for the ACT than the SAT."
   ]
  },
  {
   "cell_type": "code",
   "execution_count": 63,
   "metadata": {},
   "outputs": [
    {
     "data": {
      "image/png": "[encoded data removed]",
      "text/plain": [
       "<Figure size 576x432 with 1 Axes>"
      ]
     },
     "metadata": {
      "needs_background": "light"
     },
     "output_type": "display_data"
    }
   ],
   "source": [
    "cols = ['sat_total_17', 'sat_total_18', 'poverty']\n",
    "title = 'Total SAT Scores for 2017 vs 2018 by Poverty Index'\n",
    "xlabel = 'Total Score, 2017'\n",
    "ylabel = 'Total Score, 2018'\n",
    "\n",
    "scatter(scores, cols, title, xlabel, ylabel)"
   ]
  },
  {
   "cell_type": "markdown",
   "metadata": {},
   "source": [
    "We observe the expected linear relationship between SAT scores in 2017 vs 2018. \n",
    "\n",
    "It is also noteworthy that several very high-poverty states have high SAT scores in both years.\n",
    "\n",
    "However, two outliers stand out, both of which saw a marked drop in SAT score totals in 2018, around 200 points total. \n",
    "\n",
    "Our guess is that one of those is Colorado, which switched from being ACT-mandatory in 2017 to SAT-mandatory in 2018. One would expect that instructors and tutors would be less effective than otherwise due to the shift, and that the average score would tend to drop as test-takers shift from a self-selected population to a general population.\n",
    "\n",
    "Let's investigate these data points further:"
   ]
  },
  {
   "cell_type": "code",
   "execution_count": 64,
   "metadata": {},
   "outputs": [
    {
     "data": {
      "text/html": [
       "<div>\n",
       "<style scoped>\n",
       "    .dataframe tbody tr th:only-of-type {\n",
       "        vertical-align: middle;\n",
       "    }\n",
       "\n",
       "    .dataframe tbody tr th {\n",
       "        vertical-align: top;\n",
       "    }\n",
       "\n",
       "    .dataframe thead th {\n",
       "        text-align: right;\n",
       "    }\n",
       "</style>\n",
       "<table border=\"1\" class=\"dataframe\">\n",
       "  <thead>\n",
       "    <tr style=\"text-align: right;\">\n",
       "      <th></th>\n",
       "      <th>state</th>\n",
       "      <th>sat_total_17</th>\n",
       "      <th>sat_total_18</th>\n",
       "      <th>sat_partic_17</th>\n",
       "      <th>sat_partic_18</th>\n",
       "      <th>act_partic_17</th>\n",
       "      <th>act_partic_18</th>\n",
       "    </tr>\n",
       "  </thead>\n",
       "  <tbody>\n",
       "    <tr>\n",
       "      <th>5</th>\n",
       "      <td>Colorado</td>\n",
       "      <td>1201.0</td>\n",
       "      <td>1025.0</td>\n",
       "      <td>0.11</td>\n",
       "      <td>1.00</td>\n",
       "      <td>1.0</td>\n",
       "      <td>0.3</td>\n",
       "    </tr>\n",
       "    <tr>\n",
       "      <th>44</th>\n",
       "      <td>Utah</td>\n",
       "      <td>1238.0</td>\n",
       "      <td>1010.0</td>\n",
       "      <td>0.03</td>\n",
       "      <td>0.04</td>\n",
       "      <td>1.0</td>\n",
       "      <td>1.0</td>\n",
       "    </tr>\n",
       "  </tbody>\n",
       "</table>\n",
       "</div>"
      ],
      "text/plain": [
       "       state  sat_total_17  sat_total_18  sat_partic_17  sat_partic_18  \\\n",
       "5   Colorado        1201.0        1025.0           0.11           1.00   \n",
       "44      Utah        1238.0        1010.0           0.03           0.04   \n",
       "\n",
       "    act_partic_17  act_partic_18  \n",
       "5             1.0            0.3  \n",
       "44            1.0            1.0  "
      ]
     },
     "execution_count": 64,
     "metadata": {},
     "output_type": "execute_result"
    }
   ],
   "source": [
    "scores.loc[(scores['sat_total_17'] > 1150) & (scores['sat_total_18'] < 1050),\n",
    "           ['state', 'sat_total_17', 'sat_total_18', 'sat_partic_17', 'sat_partic_18', 'act_partic_17', 'act_partic_18']]"
   ]
  },
  {
   "cell_type": "markdown",
   "metadata": {},
   "source": [
    "We were correct that Colorado was one of the points. Utah is the other, which seems incorrect, as participation did not change dramatically. After taking a crack at Google to see if there were any related events, it turns out that the value was just erroneous--but 'normal-looking' enough that we didn't catch it during basic cleaning. Let's correct that and move on."
   ]
  },
  {
   "cell_type": "code",
   "execution_count": 65,
   "metadata": {},
   "outputs": [
    {
     "data": {
      "text/html": [
       "<div>\n",
       "<style scoped>\n",
       "    .dataframe tbody tr th:only-of-type {\n",
       "        vertical-align: middle;\n",
       "    }\n",
       "\n",
       "    .dataframe tbody tr th {\n",
       "        vertical-align: top;\n",
       "    }\n",
       "\n",
       "    .dataframe thead th {\n",
       "        text-align: right;\n",
       "    }\n",
       "</style>\n",
       "<table border=\"1\" class=\"dataframe\">\n",
       "  <thead>\n",
       "    <tr style=\"text-align: right;\">\n",
       "      <th></th>\n",
       "      <th>state</th>\n",
       "      <th>sat_total_17</th>\n",
       "      <th>sat_total_18</th>\n",
       "      <th>sat_partic_17</th>\n",
       "      <th>sat_partic_18</th>\n",
       "      <th>poverty</th>\n",
       "    </tr>\n",
       "  </thead>\n",
       "  <tbody>\n",
       "    <tr>\n",
       "      <th>0</th>\n",
       "      <td>Alabama</td>\n",
       "      <td>1165.0</td>\n",
       "      <td>1166.0</td>\n",
       "      <td>0.05</td>\n",
       "      <td>0.06</td>\n",
       "      <td>15.6</td>\n",
       "    </tr>\n",
       "    <tr>\n",
       "      <th>3</th>\n",
       "      <td>Arkansas</td>\n",
       "      <td>1208.0</td>\n",
       "      <td>1169.0</td>\n",
       "      <td>0.03</td>\n",
       "      <td>0.05</td>\n",
       "      <td>15.4</td>\n",
       "    </tr>\n",
       "    <tr>\n",
       "      <th>18</th>\n",
       "      <td>Louisiana</td>\n",
       "      <td>1198.0</td>\n",
       "      <td>1210.0</td>\n",
       "      <td>0.04</td>\n",
       "      <td>0.04</td>\n",
       "      <td>19.8</td>\n",
       "    </tr>\n",
       "    <tr>\n",
       "      <th>24</th>\n",
       "      <td>Mississippi</td>\n",
       "      <td>1242.0</td>\n",
       "      <td>1236.0</td>\n",
       "      <td>0.02</td>\n",
       "      <td>0.03</td>\n",
       "      <td>19.0</td>\n",
       "    </tr>\n",
       "  </tbody>\n",
       "</table>\n",
       "</div>"
      ],
      "text/plain": [
       "          state  sat_total_17  sat_total_18  sat_partic_17  sat_partic_18  \\\n",
       "0       Alabama        1165.0        1166.0           0.05           0.06   \n",
       "3      Arkansas        1208.0        1169.0           0.03           0.05   \n",
       "18    Louisiana        1198.0        1210.0           0.04           0.04   \n",
       "24  Mississippi        1242.0        1236.0           0.02           0.03   \n",
       "\n",
       "    poverty  \n",
       "0      15.6  \n",
       "3      15.4  \n",
       "18     19.8  \n",
       "24     19.0  "
      ]
     },
     "execution_count": 65,
     "metadata": {},
     "output_type": "execute_result"
    }
   ],
   "source": [
    "scores.loc[(scores['sat_total_17'] > 1150) & (scores['sat_total_18'] > 1150) & (scores['poverty'] > 15),\n",
    "           ['state', 'sat_total_17', 'sat_total_18', 'sat_partic_17', 'sat_partic_18', 'poverty']]"
   ]
  },
  {
   "cell_type": "markdown",
   "metadata": {},
   "source": [
    "The high-poverty states with high SAT scores turn out to, without exception, have 6% or fewer SAT participation in both years.\n",
    "\n",
    "This strongly supports the case that low participation leads to higher scores, as the population taking the test is self-selected and are only taking it because they believe they can earn a high score."
   ]
  },
  {
   "cell_type": "code",
   "execution_count": 66,
   "metadata": {},
   "outputs": [],
   "source": [
    "scores.loc[(scores['state'] == 'Utah'), 'sat_total_18'] = 1230"
   ]
  },
  {
   "cell_type": "code",
   "execution_count": 67,
   "metadata": {},
   "outputs": [
    {
     "data": {
      "image/png": "[encoded data removed]",
      "text/plain": [
       "<Figure size 576x432 with 1 Axes>"
      ]
     },
     "metadata": {
      "needs_background": "light"
     },
     "output_type": "display_data"
    }
   ],
   "source": [
    "cols = ['act_composite_17', 'act_composite_18', 'poverty']\n",
    "title = 'Composite ACT Scores for 2017 vs 2018 by Poverty Index'\n",
    "xlabel = 'Composite Score, 2017'\n",
    "ylabel = 'Composite Score, 2018'\n",
    "\n",
    "scatter(scores, cols, title, xlabel, ylabel)"
   ]
  },
  {
   "cell_type": "markdown",
   "metadata": {},
   "source": [
    "When we look at ACT scores, we again see a clear linear relationship. \n",
    "\n",
    "Unlike the SATs, we see almost no states in the lower half of poverty rates but the upper half of scores for either year.\n",
    "\n",
    "Again, there are two clear outliers—but this time we're not sure what they are. These states had much higher 2018 scores than 2017. Let's find these points."
   ]
  },
  {
   "cell_type": "code",
   "execution_count": 68,
   "metadata": {},
   "outputs": [
    {
     "data": {
      "text/html": [
       "<div>\n",
       "<style scoped>\n",
       "    .dataframe tbody tr th:only-of-type {\n",
       "        vertical-align: middle;\n",
       "    }\n",
       "\n",
       "    .dataframe tbody tr th {\n",
       "        vertical-align: top;\n",
       "    }\n",
       "\n",
       "    .dataframe thead th {\n",
       "        text-align: right;\n",
       "    }\n",
       "</style>\n",
       "<table border=\"1\" class=\"dataframe\">\n",
       "  <thead>\n",
       "    <tr style=\"text-align: right;\">\n",
       "      <th></th>\n",
       "      <th>state</th>\n",
       "      <th>act_composite_17</th>\n",
       "      <th>act_composite_18</th>\n",
       "      <th>sat_partic_17</th>\n",
       "      <th>sat_partic_18</th>\n",
       "      <th>act_partic_17</th>\n",
       "      <th>act_partic_18</th>\n",
       "    </tr>\n",
       "  </thead>\n",
       "  <tbody>\n",
       "    <tr>\n",
       "      <th>5</th>\n",
       "      <td>Colorado</td>\n",
       "      <td>20.8</td>\n",
       "      <td>23.9</td>\n",
       "      <td>0.11</td>\n",
       "      <td>1.00</td>\n",
       "      <td>1.00</td>\n",
       "      <td>0.30</td>\n",
       "    </tr>\n",
       "    <tr>\n",
       "      <th>13</th>\n",
       "      <td>Illinois</td>\n",
       "      <td>21.4</td>\n",
       "      <td>23.9</td>\n",
       "      <td>0.09</td>\n",
       "      <td>0.99</td>\n",
       "      <td>0.93</td>\n",
       "      <td>0.43</td>\n",
       "    </tr>\n",
       "  </tbody>\n",
       "</table>\n",
       "</div>"
      ],
      "text/plain": [
       "       state  act_composite_17  act_composite_18  sat_partic_17  \\\n",
       "5   Colorado              20.8              23.9           0.11   \n",
       "13  Illinois              21.4              23.9           0.09   \n",
       "\n",
       "    sat_partic_18  act_partic_17  act_partic_18  \n",
       "5            1.00           1.00           0.30  \n",
       "13           0.99           0.93           0.43  "
      ]
     },
     "execution_count": 68,
     "metadata": {},
     "output_type": "execute_result"
    }
   ],
   "source": [
    "scores.loc[(scores['act_composite_17'] < 22) & (scores['act_composite_18'] > 23),\n",
    "           ['state', 'act_composite_17', 'act_composite_18', 'sat_partic_17', 'sat_partic_18', 'act_partic_17', 'act_partic_18']]"
   ]
  },
  {
   "cell_type": "markdown",
   "metadata": {},
   "source": [
    "Colorado is here again, and it turns out there was another state which switched from ACTs to SATs in 2018: Illinois. We didn't notice it during manual EDA as we were focused on states with 100% participation and maximum values.\n",
    "\n",
    "After some research, it seems that [Illinois in fact switched during the 2017 school year](https://www.testive.com/illinois/). However, because their students take standardized tests in their junior year, those data points don't show up until 2018—a one year lag."
   ]
  },
  {
   "cell_type": "markdown",
   "metadata": {},
   "source": [
    "#### Plot and interpret boxplots\n",
    "\n",
    "For each numeric variable in the dataframe create a boxplot using Seaborn. Boxplots demonstrate central tendency and spread in variables. In a certain sense, these are somewhat redundant with histograms, but you may be better able to identify clear outliers or differences in IQR, etc.\n",
    "\n",
    "Multiple values can be plotted to a single boxplot as long as they are of the same relative scale (meaning they have similar min/max values)\n",
    "\n",
    "Each boxplot should:\n",
    "    - Only include variables of a similar scale\n",
    "    - Have clear labels for each variable\n",
    "    - Have appropriate titles and labels"
   ]
  },
  {
   "cell_type": "code",
   "execution_count": 69,
   "metadata": {},
   "outputs": [],
   "source": [
    "def subplot_boxplots(data, columns, titles, xlim, xlab):\n",
    "    # Settings adapted from histogram function\n",
    "    nrows = int(np.ceil(len(columns)/2))\n",
    "    fig, ax = plt.subplots(nrows=nrows, ncols=2, figsize=(10, 8))\n",
    "    ax = ax.ravel()\n",
    "\n",
    "    for i, column in enumerate(columns):\n",
    "        sns.boxplot(data=data, color='Purple', x=column, ax=ax[i])\n",
    "        ax[i].set_title(titles[i])\n",
    "        ax[i].set_xlabel(xlab)\n",
    "        # A variable limit is messy, but this allows us to put total scores next to per-subject scores\n",
    "        ax[i].set(xlim=xlim[i])\n",
    "        plt.tight_layout()"
   ]
  },
  {
   "cell_type": "code",
   "execution_count": 70,
   "metadata": {
    "scrolled": true
   },
   "outputs": [
    {
     "data": {
      "image/png": "[encoded data removed]",
      "text/plain": [
       "<Figure size 720x576 with 6 Axes>"
      ]
     },
     "metadata": {
      "needs_background": "light"
     },
     "output_type": "display_data"
    }
   ],
   "source": [
    "subplot_boxplots(scores, ['sat_read_write_17', 'sat_read_write_18', 'sat_math_17',\n",
    "                          'sat_math_18', 'sat_total_17', 'sat_total_18', ],\n",
    "                 titles=['SAT R/W 2017', 'SAT R/W 2018', 'SAT Math 2017',\n",
    "                         'SAT Math 2018', 'SAT Total 2017', 'SAT Total 2018'],\n",
    "                 xlim=[(400, 800), (400, 800), (400, 800),\n",
    "                       (400, 800), (800, 1600), (800, 1600)],\n",
    "                 xlab='Scores'\n",
    "                 )"
   ]
  },
  {
   "cell_type": "markdown",
   "metadata": {},
   "source": [
    "We see from these boxplots that SAT Reading and Writing Scores tend to be higher than math scores, though the range is roughly the same."
   ]
  },
  {
   "cell_type": "code",
   "execution_count": 71,
   "metadata": {
    "scrolled": true
   },
   "outputs": [
    {
     "data": {
      "image/png": "[encoded data removed]",
      "text/plain": [
       "<Figure size 720x576 with 6 Axes>"
      ]
     },
     "metadata": {
      "needs_background": "light"
     },
     "output_type": "display_data"
    }
   ],
   "source": [
    "subplot_boxplots(scores, ['act_eng_17', 'act_math_17', 'act_read_17', 'act_sci_17', 'act_composite_17',\n",
    "                          'act_composite_18'],\n",
    "                 titles=['ACT English 2017', 'ACT Math 2017', 'ACT Reading 2017', 'ACT Science 2017',\n",
    "                         'ACT Composite 2017', 'ACT Composite 2018'],\n",
    "                 xlim=[(15, 28), (15, 28), (15, 28),\n",
    "                       (15, 28), (15, 28), (15, 28)],\n",
    "                 xlab='Scores')"
   ]
  },
  {
   "cell_type": "markdown",
   "metadata": {},
   "source": [
    "We see that ACT Reading and Science scores trend higher than Math and English.\n",
    "\n",
    "We also see that there is very little difference in distribution between 2017 and 2018 Composite scores."
   ]
  },
  {
   "cell_type": "code",
   "execution_count": 72,
   "metadata": {},
   "outputs": [
    {
     "data": {
      "image/png": "[encoded data removed]",
      "text/plain": [
       "<Figure size 720x576 with 4 Axes>"
      ]
     },
     "metadata": {
      "needs_background": "light"
     },
     "output_type": "display_data"
    }
   ],
   "source": [
    "subplot_boxplots(scores, ['sat_partic_17', 'sat_partic_18', 'act_partic_17', 'act_partic_18'],\n",
    "                 titles=['SAT Participation 2017', 'SAT Participation 2018', 'ACT Participation 2017',\n",
    "                         'ACT Participation 2018'],\n",
    "                 xlim=[(0, 1), (0, 1), (0, 1), (0, 1)],\n",
    "                 xlab='% Participation')"
   ]
  },
  {
   "cell_type": "markdown",
   "metadata": {},
   "source": [
    "We can see clearly that the ACTs are more popular nationwide, which makes sense given the huge number of states with 100% participation we saw during manual EDA. \n",
    "\n",
    "There is very little difference between ACT distributions YoY. However, we see that median SAT participation rose roughly 10% from 2017 to 2018, and the third quartile by a similar amount."
   ]
  },
  {
   "cell_type": "markdown",
   "metadata": {},
   "source": [
    "#### Breaking down scores by participation and poverty\n",
    "\n",
    "*Note: this custom plot section segues directly into the \"Outside Research\" section. Ohio emerged as the most interesting data point when we broke down the effects of both test participation and poverty on the data, and we pull multiple tables and news articles from external sources for a deep dive into their trajectory. We also took close looks at Colorado and Utah in previous sections, so those are the three states requested.*"
   ]
  },
  {
   "cell_type": "code",
   "execution_count": 73,
   "metadata": {},
   "outputs": [],
   "source": [
    "# Function to create a mask checking if SAT/ACT participation is above median\n",
    "def part_mask(participation, df=scores):\n",
    "    return df[participation] > df[participation].median()\n",
    "\n",
    "# create two scatter plots for true/false values of the mask.\n",
    "# X axis = total sat for the year\n",
    "# y axis = composite act for the year\n",
    "\n",
    "\n",
    "def subplot_scatter(list_of_columns, list_of_titles,\n",
    "                    dataframes):\n",
    "\n",
    "    # Generic subplot setup from histogram example\n",
    "    nrows = int(np.ceil(len(list_of_columns)/2))\n",
    "    fig, ax = plt.subplots(nrows=nrows, ncols=2, figsize=(10, 8))\n",
    "    ax = ax.ravel()\n",
    "\n",
    "    for i in range(0, 4):\n",
    "\n",
    "        sns.scatterplot(data=dataframes[i],\n",
    "                        # Used ternary operator to get the right score columns, little ugly but it works\n",
    "                        x=list_of_columns[i if i % 2 == 0 else i-1],\n",
    "                        y=(list_of_columns[i + 1 if i % 2 == 0 else i]),\n",
    "                        hue='poverty_above_median',\n",
    "                        palette='RdPu',\n",
    "                        ax=ax[i])\n",
    "        ax[i].set_title(list_of_titles[i])\n",
    "        ax[i].set_xlabel('SAT Total')\n",
    "        ax[i].set_ylabel('ACT Composite')\n",
    "        # Need to standardize axis limits for comparability\n",
    "        ax[i].set_ylim(16, 28)\n",
    "        ax[i].set_xlim(900, 1400)\n",
    "\n",
    "        plt.tight_layout()"
   ]
  },
  {
   "cell_type": "code",
   "execution_count": 74,
   "metadata": {},
   "outputs": [],
   "source": [
    "# Creating Scatterplot Parameters and Masks\n",
    "\n",
    "scatter_titles = ['2017 SAT vs ACT Total/Composite by Poverty,\\nState Above Median SAT Participation',\n",
    "                  '2017 SAT vs ACT Total/Composite by Poverty,\\nState Below Median SAT Participation',\n",
    "                  '2018 SAT vs ACT Total/Composite by Poverty,\\nState Above Median SAT Participation',\n",
    "                  '2018 SAT vs ACT Total/Composite by Poverty,\\nState Below Median SAT Participation']\n",
    "\n",
    "\n",
    "sat_mask_17 = part_mask('sat_partic_17')\n",
    "sat_mask_18 = part_mask('sat_partic_18')\n",
    "\n",
    "scores['poverty_above_median'] = scores['poverty'] > np.median(\n",
    "    scores['poverty'])\n",
    "\n",
    "masked_dfs = [scores.mask(sat_mask_17).dropna(), scores.mask(~sat_mask_17).dropna(),\n",
    "              scores.mask(sat_mask_18).dropna(), scores.mask(~sat_mask_18).dropna()]"
   ]
  },
  {
   "cell_type": "code",
   "execution_count": 75,
   "metadata": {
    "scrolled": true
   },
   "outputs": [
    {
     "data": {
      "image/png": "[encoded data removed]",
      "text/plain": [
       "<Figure size 720x576 with 4 Axes>"
      ]
     },
     "metadata": {
      "needs_background": "light"
     },
     "output_type": "display_data"
    }
   ],
   "source": [
    "# make our scatterplots\n",
    "subplot_scatter(['sat_total_17', 'act_composite_17', 'sat_total_18', 'act_composite_18'],\n",
    "                list_of_titles=scatter_titles, dataframes=masked_dfs\n",
    "                )"
   ]
  },
  {
   "cell_type": "markdown",
   "metadata": {},
   "source": [
    "These scatterplots illustrate that the impact of poverty on test scores becomes much clearer if we filter out the states which have lower scores due of high participation.\n",
    "\n",
    "Very, very few states buck the trend of poverty levels \"pulling down\" test scores if we compare them directly with states of generally similar participation levels for the same test."
   ]
  },
  {
   "cell_type": "code",
   "execution_count": 76,
   "metadata": {},
   "outputs": [
    {
     "data": {
      "text/html": [
       "<div>\n",
       "<style scoped>\n",
       "    .dataframe tbody tr th:only-of-type {\n",
       "        vertical-align: middle;\n",
       "    }\n",
       "\n",
       "    .dataframe tbody tr th {\n",
       "        vertical-align: top;\n",
       "    }\n",
       "\n",
       "    .dataframe thead th {\n",
       "        text-align: right;\n",
       "    }\n",
       "</style>\n",
       "<table border=\"1\" class=\"dataframe\">\n",
       "  <thead>\n",
       "    <tr style=\"text-align: right;\">\n",
       "      <th></th>\n",
       "      <th>state</th>\n",
       "      <th>act_partic_17</th>\n",
       "      <th>act_composite_17</th>\n",
       "      <th>act_eng_17</th>\n",
       "      <th>act_math_17</th>\n",
       "      <th>act_read_17</th>\n",
       "      <th>act_sci_17</th>\n",
       "      <th>poverty</th>\n",
       "    </tr>\n",
       "  </thead>\n",
       "  <tbody>\n",
       "    <tr>\n",
       "      <th>35</th>\n",
       "      <td>Ohio</td>\n",
       "      <td>0.75</td>\n",
       "      <td>22.0</td>\n",
       "      <td>21.2</td>\n",
       "      <td>21.6</td>\n",
       "      <td>22.5</td>\n",
       "      <td>22.0</td>\n",
       "      <td>12.4</td>\n",
       "    </tr>\n",
       "  </tbody>\n",
       "</table>\n",
       "</div>"
      ],
      "text/plain": [
       "   state  act_partic_17  act_composite_17  act_eng_17  act_math_17  \\\n",
       "35  Ohio           0.75              22.0        21.2         21.6   \n",
       "\n",
       "    act_read_17  act_sci_17  poverty  \n",
       "35         22.5        22.0     12.4  "
      ]
     },
     "execution_count": 76,
     "metadata": {},
     "output_type": "execute_result"
    }
   ],
   "source": [
    "# Find states with above-average test scores, participation, and poverty level for one year\n",
    "# (we tested all four test/year combos, this is the only one that had a valid result)\n",
    "scores.loc[(scores['act_composite_17'] > np.median(scores['act_composite_17']))\n",
    "           & (scores['poverty_above_median'])\n",
    "           & (scores['act_partic_17'] > np.median(scores['act_partic_17'])),\n",
    "           ['state', 'act_partic_17', 'act_composite_17', 'act_eng_17', 'act_math_17', 'act_read_17', 'act_sci_17', 'poverty']]"
   ]
  },
  {
   "cell_type": "markdown",
   "metadata": {},
   "source": [
    "Pursuing this line of inquiry, we find that Ohio was the only state to achieve higher than median total test scores, in their case on the ACT in 2017, while also being above median state poverty level and above median test participation for the same test.\n",
    "\n",
    "It's very impressive to have achieved such high total scores (22.0 Composite Average) with two strong factors working against them, in 75% participation and a 12.4% poverty rate. \n",
    "\n",
    "Notably, they did not meet the same bar in 2018. [This was attributed to extending full funding](https://www.daytondailynews.com/news/historically-low-act-scores-red-flag-for-our-country/djfx9Urp719WyEaMfykyxL/) to students in the state to take the test.\n",
    "\n",
    "As the Dayton News noted, \"Of the 19 states like Ohio where 98 to 100 percent of students took the test \\[in 2018], the state tied for fourth with the composite score of 20.3.\" "
   ]
  },
  {
   "cell_type": "markdown",
   "metadata": {},
   "source": [
    "We can dive a little deeper into Ohio's success by looking at the ACT's official breakdown of scores in the state:  \n",
    "  \n",
    "![Ohio 2017 ACT Scores Report](../ACT_Ohio_Report.png)\n",
    "  \n",
    "We can see that, while the average composite score for 2017 was indeed quite high, the bulk of this average comes from above-average performance by the state's white students, who comprised 71% of test-takers in 2017.\n",
    "\n",
    "Meanwhile, the second-largest racial demographic group, Black students, comprised some 12% of the test-takers, but scored only an average of 17.5 composite on the test—far below the state average, and the lowest of any racial group."
   ]
  },
  {
   "cell_type": "markdown",
   "metadata": {},
   "source": [
    "If we then consider the Ohio Poverty Report's breakdown of poverty according to race, we see that Black Ohioans in 2017 experienced poverty rates 17.7% higher than white residents:\n",
    "\n",
    "![Ohio Poverty Breakdown 2017](../Ohio_Poverty_Breakdown.png)\n",
    "\n",
    "The key realization here is that despite Ohio's strong numbers and seeming achievement in their 2017 and 2018 ACT overall scores, inequal distributions of poverty still strongly affect test scores on a more granular level. And indeed, when participation was extended at no cost to all students, Ohio's average composite score dropped back below the national average.\n",
    "\n",
    "There is always more work to do!"
   ]
  },
  {
   "cell_type": "markdown",
   "metadata": {},
   "source": [
    "## Conclusions and Recommendations"
   ]
  },
  {
   "cell_type": "markdown",
   "metadata": {},
   "source": [
    "Based on your exploration of the data, what are you key takeaways and recommendations? Choose one state with a lower participation rate and provide a suggestion for how the College Board might increase participation amongst graduating seniors in this state. Are there additional data you desire that would better inform your investigations?"
   ]
  },
  {
   "cell_type": "markdown",
   "metadata": {},
   "source": [
    "After extensively exploring this data, our key takeaways are as follows:\n",
    "- When investigating SAT and ACT scores at the state level, it is critical to compare 'apples to apples,' i.e. high-participation states to other high-participation states.\n",
    "- State-level SAT and ACT scores both have demonstrable connection to state-level poverty. This connection is still evident if we take a deeper dive into a state's demographic score breakdown and poverty distributions.\n",
    "\n",
    "SAT and ACT scores shouldn’t be considered objective without factoring in family wealth on an individual level, or poverty and race on an aggregate level.\n",
    "\n",
    "We recommend cheaper access to test prep and equitable school funding to help equalize the US college admissions process, and that efforts should continue to eliminate unintentional biases in SAT and ACT questions and formats.\n",
    "\n",
    "We further recommend statistical modeling to put numbers to the patterns and effects we have been able to observe through visualizations.\n"
   ]
  },
  {
   "cell_type": "markdown",
   "metadata": {},
   "source": [
    "## Sources"
   ]
  },
  {
   "cell_type": "markdown",
   "metadata": {},
   "source": [
    "- [Poverty Census Data](https://www.census.gov/data/tables/2019/demo/income-poverty/p60-266.html)\n",
    "- [SAT Suite of Annual Assessments Report](https://reports.collegeboard.org/pdf/2019-total-group-sat-suite-assessments-annual-report.pdf)\n",
    "- [Average ACT Scores by State Graduating Class 2018](http://www.act.org/content/dam/act/unsecured/documents/cccr2018/Average-Scores-by-State.pdf)\n",
    "- [Colorado juniors face new, revamped college exam in SAT after state dumps rival ACT](https://www.denverpost.com/2017/03/06/colorado-juniors-sat-college-exam/)\n",
    "- [Illinois Changed to the SAT in 2017: What You Need to Know](https://www.testive.com/illinois/)\n",
    "- [Historically low ACT scores ‘a red flag for our country’](https://www.daytondailynews.com/news/historically-low-act-scores-red-flag-for-our-country/djfx9Urp719WyEaMfykyxL/)\n",
    "- [Ohio Poverty Report 2019](https://www.development.ohio.gov/files/research/p7005.pdf)\n",
    "- [ACT Profile Report - Ohio, 2017](https://www.act.org/content/dam/act/unsecured/documents/cccr2017/P_36_369999_S_S_N00_ACT-GCPR_Ohio.pdf)\n",
    "- [These four charts show how the SAT favors rich, educated families](https://www.washingtonpost.com/news/wonk/wp/2014/03/05/these-four-charts-show-how-the-sat-favors-the-rich-educated-families/)"
   ]
  },
  {
   "cell_type": "markdown",
   "metadata": {},
   "source": [
    "## Data Dictionary"
   ]
  },
  {
   "cell_type": "markdown",
   "metadata": {},
   "source": [
    "|Feature|Type|Dataset|Description|\n",
    "|---|---|---|---|\n",
    "|State|string|All|One of 50 States + Washington, D.C.| \n",
    "|sat_partic_17|float|SAT '17|% of students participating in the SAT in 2017|\n",
    "|sat_read_write_17|float|SAT '17|SAT Reading and Writing Score, 2017|\n",
    "|sat_math_17|float|SAT '17|SAT Math Score, 2017|\n",
    "|sat_total_17|float|SAT '17|SAT Total Score, 2017|\n",
    "|act_partic_17|float|ACT '17|% of students participating in the ACT in 2017|\n",
    "|act_eng_17|float|ACT '17|ACT English Score, 2017|\n",
    "|act_math_17|float|ACT '17|ACT Math Score, 2017|\n",
    "|act_read_17|float|ACT '17|ACT Reading Score, 2017|\n",
    "|act_sci_17|float|ACT '17|ACT Science Score, 2017|\n",
    "|act_composite_17|float|ACT '17|ACT Composite Score, 2017|\n",
    "|sat_partic_18|float|SAT '18|% of students participating in the SAT in 2018|\n",
    "|sat_read_write_18|float|SAT '18|SAT Reading and Writing Score, 2018|\n",
    "|sat_math_18|float|SAT '18|SAT Math Score, 2018|\n",
    "|sat_total_18|float|SAT '18|SAT Total Score, 2018|\n",
    "|act_partic_18|float|ACT '18|% of students participating in the ACT in 2018|\n",
    "|act_composite_18|float|ACT '18|ACT Composite Score, 2018|\n",
    "|poverty|float|Census Poverty|% of people living in poverty, 2017-2018 average|\n",
    "|total_partic_17|float|Generated Feature|Sum of sat_partic_17 and act_partic_17|\n",
    "|total_partic_18|float|Generated Feature|Sum of sat_partic_18 and act_partic_18|\n",
    "|poverty_above_median|bool|Generated Feature|True if poverty index is below national median|"
   ]
  }
 ],
 "metadata": {
  "anaconda-cloud": {},
  "kernelspec": {
   "display_name": "Python 3",
   "language": "python",
   "name": "python3"
  },
  "language_info": {
   "codemirror_mode": {
    "name": "ipython",
    "version": 3
   },
   "file_extension": ".py",
   "mimetype": "text/x-python",
   "name": "python",
   "nbconvert_exporter": "python",
   "pygments_lexer": "ipython3",
   "version": "3.7.6"
  },
  "toc": {
   "base_numbering": 1,
   "nav_menu": {},
   "number_sections": true,
   "sideBar": true,
   "skip_h1_title": false,
   "title_cell": "Table of Contents",
   "title_sidebar": "Contents",
   "toc_cell": false,
   "toc_position": {},
   "toc_section_display": true,
   "toc_window_display": false
  },
  "varInspector": {
   "cols": {
    "lenName": 16,
    "lenType": 16,
    "lenVar": 40
   },
   "kernels_config": {
    "python": {
     "delete_cmd_postfix": "",
     "delete_cmd_prefix": "del ",
     "library": "var_list.py",
     "varRefreshCmd": "print(var_dic_list())"
    },
    "r": {
     "delete_cmd_postfix": ") ",
     "delete_cmd_prefix": "rm(",
     "library": "var_list.r",
     "varRefreshCmd": "cat(var_dic_list()) "
    }
   },
   "types_to_exclude": [
    "module",
    "function",
    "builtin_function_or_method",
    "instance",
    "_Feature"
   ],
   "window_display": false
  }
 },
 "nbformat": 4,
 "nbformat_minor": 2
}
